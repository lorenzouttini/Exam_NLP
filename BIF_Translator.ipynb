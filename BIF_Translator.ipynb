{
  "nbformat": 4,
  "nbformat_minor": 0,
  "metadata": {
    "colab": {
      "provenance": [],
      "gpuType": "T4"
    },
    "kernelspec": {
      "name": "python3",
      "display_name": "Python 3"
    },
    "language_info": {
      "name": "python"
    },
    "accelerator": "GPU"
  },
  "cells": [
    {
      "cell_type": "markdown",
      "source": [
        "#**BIF TRANSLATOR**\n",
        "A project by:\n",
        "Acquadro Patrizio - 502311\n",
        "Uttini Lorenzo - 502183\n",
        "\n",
        "In this colab notebook we perform a machine translation task, using the Keras library to exploit the different architectures, useful to accomplish this task.\n"
      ],
      "metadata": {
        "id": "bYpRNuyoJ_fH"
      }
    },
    {
      "cell_type": "markdown",
      "source": [
        "##***INITIATION***\n",
        "We install the packages we need and we import all the different methods and functions that we need in the respective coding blocks."
      ],
      "metadata": {
        "id": "Ps1xgBfVKhLQ"
      }
    },
    {
      "cell_type": "code",
      "source": [
        "!pip install jiwer"
      ],
      "metadata": {
        "id": "POCJ_LPOIWNh",
        "colab": {
          "base_uri": "https://localhost:8080/"
        },
        "outputId": "d221f408-f58b-4a97-ca19-58a54cf4ca6a"
      },
      "execution_count": null,
      "outputs": [
        {
          "output_type": "stream",
          "name": "stdout",
          "text": [
            "Collecting jiwer\n",
            "  Downloading jiwer-3.0.2-py3-none-any.whl (21 kB)\n",
            "Requirement already satisfied: click<9.0.0,>=8.1.3 in /usr/local/lib/python3.10/dist-packages (from jiwer) (8.1.4)\n",
            "Collecting rapidfuzz==2.13.7 (from jiwer)\n",
            "  Downloading rapidfuzz-2.13.7-cp310-cp310-manylinux_2_17_x86_64.manylinux2014_x86_64.whl (2.2 MB)\n",
            "\u001b[2K     \u001b[90m━━━━━━━━━━━━━━━━━━━━━━━━━━━━━━━━━━━━━━━━\u001b[0m \u001b[32m2.2/2.2 MB\u001b[0m \u001b[31m45.8 MB/s\u001b[0m eta \u001b[36m0:00:00\u001b[0m\n",
            "\u001b[?25hInstalling collected packages: rapidfuzz, jiwer\n",
            "Successfully installed jiwer-3.0.2 rapidfuzz-2.13.7\n"
          ]
        }
      ]
    },
    {
      "cell_type": "code",
      "source": [
        "!pip install sacrebleu"
      ],
      "metadata": {
        "id": "3K5BjLeyI_3Z",
        "colab": {
          "base_uri": "https://localhost:8080/"
        },
        "outputId": "398bb904-2f5b-4efc-f259-a44f2d9ccf68"
      },
      "execution_count": null,
      "outputs": [
        {
          "output_type": "stream",
          "name": "stdout",
          "text": [
            "Collecting sacrebleu\n",
            "  Downloading sacrebleu-2.3.1-py3-none-any.whl (118 kB)\n",
            "\u001b[?25l     \u001b[90m━━━━━━━━━━━━━━━━━━━━━━━━━━━━━━━━━━━━━━━━\u001b[0m \u001b[32m0.0/118.9 kB\u001b[0m \u001b[31m?\u001b[0m eta \u001b[36m-:--:--\u001b[0m\r\u001b[2K     \u001b[90m━━━━━━━━━━━━━━━━━━━━━━━━━━━━━━━━━━━━━━━\u001b[0m \u001b[32m118.9/118.9 kB\u001b[0m \u001b[31m8.9 MB/s\u001b[0m eta \u001b[36m0:00:00\u001b[0m\n",
            "\u001b[?25hCollecting portalocker (from sacrebleu)\n",
            "  Downloading portalocker-2.7.0-py2.py3-none-any.whl (15 kB)\n",
            "Requirement already satisfied: regex in /usr/local/lib/python3.10/dist-packages (from sacrebleu) (2022.10.31)\n",
            "Requirement already satisfied: tabulate>=0.8.9 in /usr/local/lib/python3.10/dist-packages (from sacrebleu) (0.8.10)\n",
            "Requirement already satisfied: numpy>=1.17 in /usr/local/lib/python3.10/dist-packages (from sacrebleu) (1.22.4)\n",
            "Collecting colorama (from sacrebleu)\n",
            "  Downloading colorama-0.4.6-py2.py3-none-any.whl (25 kB)\n",
            "Requirement already satisfied: lxml in /usr/local/lib/python3.10/dist-packages (from sacrebleu) (4.9.3)\n",
            "Installing collected packages: portalocker, colorama, sacrebleu\n",
            "Successfully installed colorama-0.4.6 portalocker-2.7.0 sacrebleu-2.3.1\n"
          ]
        }
      ]
    },
    {
      "cell_type": "code",
      "execution_count": null,
      "metadata": {
        "id": "lllmHmOloENp"
      },
      "outputs": [],
      "source": [
        "import tensorflow as tf\n",
        "import string\n",
        "import re\n",
        "from tensorflow import keras\n",
        "from tensorflow.keras import layers, Model, Input\n",
        "from tensorflow.keras.layers import GRU, LSTM, Embedding, Bidirectional, Input, Dropout, Dense\n",
        "\n",
        "import requests\n",
        "import io\n",
        "import zipfile\n",
        "\n",
        "import random\n",
        "import numpy as np\n",
        "import matplotlib.pyplot as plt\n",
        "\n",
        "import nltk\n",
        "from nltk.translate import meteor_score\n",
        "from nltk import FreqDist\n",
        "import jiwer\n",
        "\n",
        "import tensorflow as tf\n",
        "import string\n",
        "import re\n",
        "from tensorflow import keras\n",
        "from tensorflow.keras import layers, Model, Input\n",
        "from tensorflow.keras.layers import GRU, LSTM, Embedding, Bidirectional, Input, Dropout, Dense\n",
        "\n",
        "import sacrebleu"
      ]
    },
    {
      "cell_type": "markdown",
      "source": [
        "###***Read the file***\n",
        "We loaded the file zipped on github. <br>\n",
        "Then, we read the file from our github link and we unzip it."
      ],
      "metadata": {
        "id": "4QfvChBqTr6A"
      }
    },
    {
      "cell_type": "code",
      "source": [
        "# Read the file\n",
        "url = \"https://github.com/lorenzouttini/Exam_NLP/raw/main/ita-eng.zip\"\n",
        "response = requests.get(url)\n",
        "\n",
        "#Unzip the file\n",
        "zip_file = zipfile.ZipFile(io.BytesIO(response.content))\n",
        "zip_file.extractall()"
      ],
      "metadata": {
        "id": "biWNfgnvoLxE"
      },
      "execution_count": 90,
      "outputs": []
    },
    {
      "cell_type": "markdown",
      "source": [
        "# Preprocessing of the text\n"
      ],
      "metadata": {
        "id": "Bi_DjrV-TzUf"
      }
    },
    {
      "cell_type": "markdown",
      "source": [
        "### Construct the list of the pairs\n",
        "\n",
        "We call our text **\"text_file\"**. <br>\n",
        "\n",
        "\n",
        "Since the original text contains the english sentences paired with the italian ones(separated by a \"*tab*\" character), we have created a list called **\"list_pairs\"** where we put the tuples composed by the english sentence and the translated italian one.  <br>\n",
        "\n",
        "\n",
        "In the italian translation we have added the start and end **tokens**."
      ],
      "metadata": {
        "id": "YeD2kAlhT6_s"
      }
    },
    {
      "cell_type": "code",
      "source": [
        "# Instantiate the file\n",
        "text_file = \"ita.txt\""
      ],
      "metadata": {
        "id": "lZKORMThoNKD"
      },
      "execution_count": null,
      "outputs": []
    },
    {
      "cell_type": "code",
      "source": [
        "# Open it\n",
        "with open(\"ita.txt\", \"r\") as file:\n",
        "    lines = file.readlines()\n",
        "\n",
        "# Created our new dataset composed by english and italian sentences seperated\n",
        "pairs_list = []\n",
        "for line in lines:\n",
        "    parts = line.split(\"\\t\")\n",
        "    if len(parts) >= 2:\n",
        "        english = parts[0].strip()\n",
        "        italian = parts[1].strip()\n",
        "        italian = \"[start] \" + italian + \" [end]\"     # starting and ending tokens\n",
        "        pairs_list.append((english, italian))          # append to the list the pairs (english/italian)\n",
        "\n",
        "print(pairs_list[:5])\n",
        "print(len(pairs_list))"
      ],
      "metadata": {
        "colab": {
          "base_uri": "https://localhost:8080/"
        },
        "id": "PkBfWOuHoO7j",
        "outputId": "f8b7f9ab-11fd-4cfa-9b84-b020510e70a4"
      },
      "execution_count": null,
      "outputs": [
        {
          "output_type": "stream",
          "name": "stdout",
          "text": [
            "[('Hi.', '[start] Ciao! [end]'), ('Hi.', '[start] Ciao. [end]'), ('Run!', '[start] Corri! [end]'), ('Run!', '[start] Corra! [end]'), ('Run!', '[start] Correte! [end]')]\n",
            "364200\n"
          ]
        }
      ]
    },
    {
      "cell_type": "code",
      "source": [
        "# Randomly remove 80% of the elements\n",
        "pairs_list = random.sample(pairs_list, k=int(0.8 * len(pairs_list)))\n",
        "\n",
        "print(len(pairs_list))"
      ],
      "metadata": {
        "colab": {
          "base_uri": "https://localhost:8080/"
        },
        "id": "GQcMqTj2pskC",
        "outputId": "e7432e45-b9bd-4766-922c-e252f52d8772"
      },
      "execution_count": null,
      "outputs": [
        {
          "output_type": "stream",
          "name": "stdout",
          "text": [
            "291360\n"
          ]
        }
      ]
    },
    {
      "cell_type": "markdown",
      "source": [
        "### Analyzing the dataset\n",
        "\n",
        "We compute some statistics for Italian and English sentences and words, to analyze completely the dataset that we have.\n",
        "\n",
        "These statistics, for both the italian and the english words and sentences, are:\n",
        "- the total number of both\n",
        "- the mean of both\n",
        "- the maximum lenght of a sentence\n",
        "- the number of unique words\n",
        "\n",
        "Then we've plotted also their distributions with the respective mean\n",
        "\n",
        "And at the end we also plot the graph derived from the Zipf's law, to display the words according to their rank, based on their frequency\n",
        "\n"
      ],
      "metadata": {
        "id": "dA7Oe9oVC7r3"
      }
    },
    {
      "cell_type": "markdown",
      "source": [
        "####**Statistics for Italian sentences:**"
      ],
      "metadata": {
        "id": "QdIqpd2ZDzeq"
      }
    },
    {
      "cell_type": "code",
      "source": [
        "nltk.download('punkt')\n",
        "\n",
        "# Tokenize the Italian words\n",
        "words_ita = [word.lower() for pair in pairs_list for word in nltk.word_tokenize(pair[1])]\n",
        "\n",
        "# Filter out the special tokens\n",
        "filtered_words = [word for word in words_ita if word not in [\"[\", \"]\", \"start\", \"end\"]]"
      ],
      "metadata": {
        "colab": {
          "base_uri": "https://localhost:8080/"
        },
        "id": "LLk2PZe-oQ7r",
        "outputId": "e096924c-3fa7-4846-cd8b-0b0bddf2347d"
      },
      "execution_count": null,
      "outputs": [
        {
          "output_type": "stream",
          "name": "stderr",
          "text": [
            "[nltk_data] Downloading package punkt to /root/nltk_data...\n",
            "[nltk_data]   Unzipping tokenizers/punkt.zip.\n"
          ]
        }
      ]
    },
    {
      "cell_type": "code",
      "source": [
        "# Compute Italian statistics\n",
        "total_word_ita = len(filtered_words)\n",
        "total_sentences_ita = len(pairs_list)\n",
        "mean_word_length_ita = round(sum(len(word) for word in filtered_words) / total_word_ita)\n",
        "mean_sentence_length_ita = round(total_word_ita / total_sentences_ita)\n",
        "unique_words_ita = len(set(filtered_words))\n",
        "\n",
        "# Print the Italian statistics\n",
        "print(\"Total number of Italian words (excluding tokens):\", total_word_ita)\n",
        "print(\"Total number of sentences:\", total_sentences_ita)\n",
        "print(\"Mean length of Italian words (excluding tokens):\", mean_word_length_ita)\n",
        "print(\"Mean length of Italian sentences:\", mean_sentence_length_ita)\n",
        "print(\"Number of unique Italian words (excluding tokens):\", unique_words_ita)"
      ],
      "metadata": {
        "colab": {
          "base_uri": "https://localhost:8080/"
        },
        "id": "3Bd6xzDOoSwz",
        "outputId": "cee09686-c027-4815-d303-9ca209574ba6"
      },
      "execution_count": null,
      "outputs": [
        {
          "output_type": "stream",
          "name": "stdout",
          "text": [
            "Total number of Italian words (excluding tokens): 1889125\n",
            "Total number of sentences: 291360\n",
            "Mean length of Italian words (excluding tokens): 4\n",
            "Mean length of Italian sentences: 6\n",
            "Number of unique Italian words (excluding tokens): 27191\n"
          ]
        }
      ]
    },
    {
      "cell_type": "code",
      "source": [
        "#ITALIAN SENTENCE LENGHT DISTRIBUTION\n",
        "italian_lengths = []\n",
        "\n",
        "for pair in pairs_list:\n",
        "    italian_sentence = pair[1]\n",
        "    italian_length = len(italian_sentence.split())\n",
        "    italian_lengths.append(italian_length)\n",
        "\n",
        "#Compute the mean\n",
        "mean_italian_length = round(sum(len(word) for word in filtered_words) / total_word_ita)\n",
        "\n",
        "# Create the subplot\n",
        "plt.figure(figsize=(4, 3))\n",
        "\n",
        "# Plot of the distribution\n",
        "plt.hist(italian_lengths, bins=60, color='red', alpha=0.5)\n",
        "plt.axvline(mean_italian_length, color='black', linestyle='dashed', linewidth=1)\n",
        "plt.xlabel('Italian Sentence Length')\n",
        "plt.ylabel('Frequency')\n",
        "plt.title('Distribution of Italian Sentence Lengths\\nMean: {:.2f}'.format(mean_italian_length))\n",
        "\n",
        "# Print the graph\n",
        "plt.tight_layout()\n",
        "plt.show()\n"
      ],
      "metadata": {
        "id": "csOCsVL1Hf4K",
        "colab": {
          "base_uri": "https://localhost:8080/",
          "height": 307
        },
        "outputId": "7dd551f9-c096-408a-b1c1-0e4095f5ecf3"
      },
      "execution_count": null,
      "outputs": [
        {
          "output_type": "display_data",
          "data": {
            "text/plain": [
              "<Figure size 400x300 with 1 Axes>"
            ],
            "image/png": "[encoded data removed]"
          },
          "metadata": {}
        }
      ]
    },
    {
      "cell_type": "code",
      "source": [
        "#ITALIAN WORDS LENGHT DISTRIBUTION\n",
        "italian_word_lengths = []\n",
        "\n",
        "for pair in pairs_list:\n",
        "    italian_sentence = pair[1]\n",
        "    italian_words = italian_sentence.split()\n",
        "\n",
        "    for word in italian_words:\n",
        "        italian_word_lengths.append(len(word))\n",
        "\n",
        "# Compute the mean\n",
        "mean_italian_word_length = sum(italian_word_lengths) / len(italian_word_lengths)\n",
        "\n",
        "# Create a subplot\n",
        "plt.figure(figsize=(4, 3))\n",
        "\n",
        "# Plot of the distribution\n",
        "plt.hist(italian_word_lengths, bins=20, color='red', alpha=0.5)\n",
        "plt.axvline(mean_italian_word_length, color='black', linestyle='dashed', linewidth=1)\n",
        "plt.xlabel('Italian Word Length')\n",
        "plt.ylabel('Frequency')\n",
        "plt.title('Distribution of Italian Word Lengths\\nMean: {:.2f}'.format(mean_italian_word_length))\n",
        "\n",
        "#Display the graph\n",
        "plt.tight_layout()\n",
        "plt.show()\n"
      ],
      "metadata": {
        "colab": {
          "base_uri": "https://localhost:8080/",
          "height": 307
        },
        "id": "uUXNM04XLeZa",
        "outputId": "7941ba4a-13ee-494a-bd30-400353ab9bba"
      },
      "execution_count": null,
      "outputs": [
        {
          "output_type": "display_data",
          "data": {
            "text/plain": [
              "<Figure size 400x300 with 1 Axes>"
            ],
            "image/png": "[encoded data removed]"
          },
          "metadata": {}
        }
      ]
    },
    {
      "cell_type": "code",
      "source": [
        "# Plot Zipf's Law graph\n",
        "fdist = FreqDist(filtered_words)\n",
        "plt.title(\"Zipf's Law Italian\")\n",
        "fdist.plot(30, cumulative=False)\n",
        "plt.show()"
      ],
      "metadata": {
        "colab": {
          "base_uri": "https://localhost:8080/",
          "height": 505
        },
        "id": "rnQ3MEpmoUbs",
        "outputId": "2210968c-906b-429a-a1cc-5923a79920f8"
      },
      "execution_count": null,
      "outputs": [
        {
          "output_type": "display_data",
          "data": {
            "text/plain": [
              "<Figure size 640x480 with 1 Axes>"
            ],
            "image/png": "[encoded data removed]"
          },
          "metadata": {}
        }
      ]
    },
    {
      "cell_type": "markdown",
      "source": [
        "####**Statistics for English sentences:**"
      ],
      "metadata": {
        "id": "W8GGlupQEfbk"
      }
    },
    {
      "cell_type": "code",
      "source": [
        "nltk.download('punkt')\n",
        "\n",
        "# Tokenize the English words\n",
        "words_eng = [word.lower() for pair in pairs_list for word in nltk.word_tokenize(pair[0])]"
      ],
      "metadata": {
        "colab": {
          "base_uri": "https://localhost:8080/"
        },
        "id": "S-Tdy8h_ElRI",
        "outputId": "96682112-d161-4545-a2ad-3936e0388ffd"
      },
      "execution_count": null,
      "outputs": [
        {
          "output_type": "stream",
          "name": "stderr",
          "text": [
            "[nltk_data] Downloading package punkt to /root/nltk_data...\n",
            "[nltk_data]   Package punkt is already up-to-date!\n"
          ]
        }
      ]
    },
    {
      "cell_type": "code",
      "source": [
        "# Compute English statistics\n",
        "total_word_eng = len(words_eng)\n",
        "total_sentences_eng = len(pairs_list)\n",
        "mean_word_length_eng = round(sum(len(word) for word in words_eng) / total_word_eng)\n",
        "mean_sentence_length_eng = round(total_word_eng / total_sentences_eng)\n",
        "unique_words_eng = len(set(words_eng))\n",
        "\n",
        "# Print the English statistics\n",
        "print(\"Total number of words (excluding tokens):\", total_word_eng)\n",
        "print(\"Total number of sentences:\", total_sentences_eng)\n",
        "print(\"Mean length of words (excluding tokens):\", mean_word_length_eng)\n",
        "print(\"Mean length of sentences:\", mean_sentence_length_eng)\n",
        "print(\"Number of unique words (excluding tokens):\", unique_words_eng)"
      ],
      "metadata": {
        "colab": {
          "base_uri": "https://localhost:8080/"
        },
        "id": "y0okxxzUEq0C",
        "outputId": "e13ad9e8-729a-469a-87a0-eb581162d974"
      },
      "execution_count": null,
      "outputs": [
        {
          "output_type": "stream",
          "name": "stdout",
          "text": [
            "Total number of words (excluding tokens): 2020048\n",
            "Total number of sentences: 291360\n",
            "Mean length of words (excluding tokens): 3\n",
            "Mean length of sentences: 7\n",
            "Number of unique words (excluding tokens): 13406\n"
          ]
        }
      ]
    },
    {
      "cell_type": "code",
      "source": [
        "#ITALIAN SENTENCE LENGHT DISTRIBUTION\n",
        "english_lengths = []\n",
        "\n",
        "for pair in pairs_list:\n",
        "    english_sentence = pair[0]\n",
        "    english_length = len(english_sentence.split())\n",
        "    english_lengths.append(english_length)\n",
        "\n",
        "#Compute the mean\n",
        "mean_english_length = sum(english_lengths) / len(english_lengths)\n",
        "\n",
        "# Create a subplot\n",
        "plt.figure(figsize=(4, 3))\n",
        "\n",
        "# Plot of the distribution\n",
        "plt.hist(english_lengths, bins=60, color='blue', alpha=0.5)\n",
        "plt.axvline(mean_english_length, color='black', linestyle='dashed', linewidth=1)\n",
        "plt.xlabel('English Sentence Length')\n",
        "plt.ylabel('Frequency')\n",
        "plt.title('Distribution of English Sentence Lengths\\nMean: {:.2f}'.format(mean_english_length))\n",
        "\n",
        "#Display the graph\n",
        "plt.tight_layout()\n",
        "plt.show()\n"
      ],
      "metadata": {
        "colab": {
          "base_uri": "https://localhost:8080/",
          "height": 307
        },
        "id": "Sn3qC7qjQgsO",
        "outputId": "c0de6639-e2b1-4850-e28b-20cc6f43dc4e"
      },
      "execution_count": null,
      "outputs": [
        {
          "output_type": "display_data",
          "data": {
            "text/plain": [
              "<Figure size 400x300 with 1 Axes>"
            ],
            "image/png": "[encoded data removed]"
          },
          "metadata": {}
        }
      ]
    },
    {
      "cell_type": "code",
      "source": [
        "#ENGLISH WORDS LENGHT DISTRIBUTION\n",
        "english_word_lengths = []\n",
        "\n",
        "for pair in pairs_list:\n",
        "    english_sentence = pair[0]\n",
        "    english_words = english_sentence.split()\n",
        "\n",
        "    for word in english_words:\n",
        "        english_word_lengths.append(len(word))\n",
        "\n",
        "#Compute the mean\n",
        "mean_english_word_length = round(sum(len(word) for word in words_eng) / total_word_eng)\n",
        "\n",
        "#Create a subplot\n",
        "plt.figure(figsize=(4, 3))\n",
        "\n",
        "# Plot of the distribution\n",
        "plt.hist(english_word_lengths, bins=20, color='blue', alpha=0.5)\n",
        "plt.axvline(mean_english_word_length, color='black', linestyle='dashed', linewidth=1)\n",
        "plt.xlabel('English Word Length')\n",
        "plt.ylabel('Frequency')\n",
        "plt.title('Distribution of English Word Lengths\\nMean: {:.2f}'.format(mean_english_word_length))\n",
        "\n",
        "#Display the graph\n",
        "plt.tight_layout()\n",
        "plt.show()\n"
      ],
      "metadata": {
        "colab": {
          "base_uri": "https://localhost:8080/",
          "height": 307
        },
        "id": "TasO7kFYL2dv",
        "outputId": "4c1f84b1-e8de-4271-d2ac-4958fed3f64a"
      },
      "execution_count": null,
      "outputs": [
        {
          "output_type": "display_data",
          "data": {
            "text/plain": [
              "<Figure size 400x300 with 1 Axes>"
            ],
            "image/png": "[encoded data removed]"
          },
          "metadata": {}
        }
      ]
    },
    {
      "cell_type": "code",
      "source": [
        "# Plot Zipf's Law graph\n",
        "fdist = FreqDist(words_eng)\n",
        "plt.title(\"Zipf's Law English\")\n",
        "fdist.plot(30, cumulative=False)\n",
        "plt.show()"
      ],
      "metadata": {
        "colab": {
          "base_uri": "https://localhost:8080/",
          "height": 492
        },
        "id": "zBcsB3-XFVC_",
        "outputId": "67942d72-a2cd-4072-a15f-24dc99b70e1e"
      },
      "execution_count": null,
      "outputs": [
        {
          "output_type": "display_data",
          "data": {
            "text/plain": [
              "<Figure size 640x480 with 1 Axes>"
            ],
            "image/png": "[encoded data removed]"
          },
          "metadata": {}
        }
      ]
    },
    {
      "cell_type": "markdown",
      "source": [
        "### Train, Validation and Test\n",
        "We have defined the proportion of the train, validation and test set:\n",
        "- **Train**: 70%\n",
        "- **Validation**: 15%\n",
        "- **Test**: 15%\n",
        "\n",
        "It is important to notice that the senteces in the original text were ordinated incrementally with the respect to the length. So choose to **shuffle** the dataset before defining training, validation and test.\n",
        "\n",
        "We've already picked randomly the sentences to form the dataset with 80% of the original samples, so this is not necessary, but we've made it to generalize the case."
      ],
      "metadata": {
        "id": "C-PsbxIzUJWW"
      }
    },
    {
      "cell_type": "code",
      "source": [
        "# Shuffle the pairs\n",
        "random.shuffle(pairs_list)\n",
        "\n",
        "# Define the dimensions\n",
        "dim_val = int(0.15 * len(pairs_list))               # define the validation samples (15%)\n",
        "dim_train = len(pairs_list) - 2 * dim_val   # define the train samples (70%)"
      ],
      "metadata": {
        "id": "ZIbCGxpJoW3z"
      },
      "execution_count": null,
      "outputs": []
    },
    {
      "cell_type": "code",
      "source": [
        "# Define the train, validation and test set pairs\n",
        "train_pairs = pairs_list[:dim_train]\n",
        "val_pairs = pairs_list[dim_train:dim_train + dim_val]\n",
        "test_pairs = pairs_list[dim_train + dim_val:]"
      ],
      "metadata": {
        "id": "Rdzj6uiUoYpD"
      },
      "execution_count": null,
      "outputs": []
    },
    {
      "cell_type": "markdown",
      "source": [
        "### Prepare Word Vectorization\n",
        "\n",
        "Firstly, we define the punctuation signs with variable **\"punctuation_chars\"**. <br>\n",
        "\n",
        "Since in the tokens (start, end) we have the square brackets, we choose to replace '**[**' , '**]**' with the empty string to keep them then, when we remove the punctuation. <br>\n",
        "\n",
        "Then, we create a function \"**custom_remove**\" that put all the characters in lower case and remove the punctuations we have defined previously. <br>\n",
        "\n",
        "We have defined a **dictionary size** that indicates the number of unique words that the model take in consideration during training of translation. <br>\n",
        "\n",
        "After this, we decided to set the sequence lenght to **15**, that corresponds to the number of tokens processed by each RNN unit.\n",
        "- A <u>larger size</u> could deal better the context to generate more elaborated sentences, but requires more computational resources.\n",
        "- A <u>smaller size</u> could generate more fluent and coherent texts, but it does not consider to much the context."
      ],
      "metadata": {
        "id": "P-BVppnfUQmw"
      }
    },
    {
      "cell_type": "code",
      "source": [
        "# Define punctuation signs\n",
        "punctuation_chars = string.punctuation\n",
        "\n",
        "# Keep square brackets\n",
        "punctuation_chars = punctuation_chars.replace(\"[\", \"\")\n",
        "punctuation_chars = punctuation_chars.replace(\"]\", \"\")"
      ],
      "metadata": {
        "id": "T7Pas22JoaUs"
      },
      "execution_count": null,
      "outputs": []
    },
    {
      "cell_type": "code",
      "source": [
        "# Remove all the punctuation signs we have defined\n",
        "def custom_remove(input_string):\n",
        "  lowercase = tf.strings.lower(input_string)\n",
        "  return tf.strings.regex_replace(lowercase, f\"[{re.escape(punctuation_chars)}]\", \"\")    # keep square brackets"
      ],
      "metadata": {
        "id": "PbaVP3o9ob8z"
      },
      "execution_count": null,
      "outputs": []
    },
    {
      "cell_type": "code",
      "source": [
        "# Define Vocabulary and Sequence lenght\n",
        "dictionary_size = 25000\n",
        "sequence_size = 15"
      ],
      "metadata": {
        "id": "i7ay8j8Sodcq"
      },
      "execution_count": null,
      "outputs": []
    },
    {
      "cell_type": "markdown",
      "source": [
        "For the pre-processing of text we decide to use an integrated function of keras called TextVectorization, that **remove punctuation** signs and form the new **vocabulary** based on our training sentences. <br>\n",
        "\n",
        "The TextVectorization English layer takes as parameters the \"**dictionary_size**\" and \"**window_size**\". <br>\n",
        "The Italian Layer has the same parameters of the previous one but it adds one unit to \"**output_sequence_lenght**\" (because of the end token) and it introduces a new parameter called \"**standardize**\" that modify the text with the function we have defined previously (\"custom_remove\").  <br>\n",
        "\n",
        "\n",
        "Then, we make a list of all the <u>training sentences</u> (english and italian) and we adapt the Vectorization Layers we have defined on these training lists. <br>\n",
        "This means that all the sentences are turned into **vectors** (dimension=15) of integers which correspond to the words index in the vocabulary.\n",
        "\n"
      ],
      "metadata": {
        "id": "f6p3wWoEUTPY"
      }
    },
    {
      "cell_type": "code",
      "source": [
        "# English layer\n",
        "eng_vectorization = layers.TextVectorization(\n",
        " max_tokens= dictionary_size,\n",
        " output_mode=\"int\",\n",
        " output_sequence_length=sequence_size,\n",
        ")"
      ],
      "metadata": {
        "id": "mIUkh21Mof7c"
      },
      "execution_count": null,
      "outputs": []
    },
    {
      "cell_type": "code",
      "source": [
        "# Italian layer\n",
        "ita_vectorization = layers.TextVectorization(\n",
        " max_tokens= dictionary_size,\n",
        " output_mode=\"int\",\n",
        " output_sequence_length=sequence_size + 1,     # output consider also ['end'] token\n",
        " standardize=custom_remove,                    # remove punctuations and keep square brackets\n",
        ")"
      ],
      "metadata": {
        "id": "YSEa6aX_ohhK"
      },
      "execution_count": null,
      "outputs": []
    },
    {
      "cell_type": "code",
      "source": [
        "# Create training lists\n",
        "train_english_list = [pair[0] for pair in train_pairs]\n",
        "train_italian_list = [pair[1] for pair in train_pairs]\n",
        "\n",
        "print(train_english_list[2])\n",
        "print(train_italian_list[2])"
      ],
      "metadata": {
        "colab": {
          "base_uri": "https://localhost:8080/"
        },
        "id": "WpEyA1mfojLz",
        "outputId": "0c1bca7c-4c75-4021-83c4-2dc4c098f05e"
      },
      "execution_count": null,
      "outputs": [
        {
          "output_type": "stream",
          "name": "stdout",
          "text": [
            "That's part of our job.\n",
            "[start] Fa parte del nostro lavoro. [end]\n"
          ]
        }
      ]
    },
    {
      "cell_type": "code",
      "source": [
        "# Apply vectorization layers on our training lists --> as output we obtain only vectors of 25 integers components\n",
        "eng_vectorization.adapt(train_english_list)\n",
        "ita_vectorization.adapt(train_italian_list)"
      ],
      "metadata": {
        "id": "SHk5NgigolDy"
      },
      "execution_count": null,
      "outputs": []
    },
    {
      "cell_type": "markdown",
      "source": [
        "# Prepare datasets for the translation\n",
        "\n",
        "Now our aim is to create the validation and training dataset for the translation tasks, by vectoring them. To make this, we create two functions: <br>\n",
        "\n",
        "**1. \"format_dataset**\": with english and italian Vectorization Layers defined before, we preprocess the parameters of the function (eng, ita). We return english proprocessed text and italian preprocessed text of the same lenght (for this reason we remove one dimension from the input and output italian). <br>\n",
        "\n",
        "\n",
        "**2. \"make_dataset\"**: it is the function that creates the real dataset. It takes as a parameter \"*pairs*\" that corresponds to the list of sets formed by pairs. It divides pairs in different elements and transform them in lists. Then, it creates the **dataset** from the two lists (with a special tensorflow dataset). Finally, it formatted the dataset according to the batch size and to the function \"*format_dataset*\" we have defined above. Moreover, we have used the function \"*shuffle*\" to introduce some randomness in the dataset, \"*prefetch*\" to reduce the time for training and \"*cache*\" to save the data locally to optimize the training performances. <br>\n",
        "\n",
        "As last step, we define the ***train*** and ***validation*** dataset with the method we have described above."
      ],
      "metadata": {
        "id": "3Ew8PNbtUXxu"
      }
    },
    {
      "cell_type": "code",
      "source": [
        "# Define batch size\n",
        "batch_size = 64\n",
        "\n",
        "# Create the function to format the dataset\n",
        "def format_dataset(eng, ita):\n",
        "  eng = eng_vectorization(eng)\n",
        "  ita = ita_vectorization(ita)\n",
        "  return ({\"english\": eng, \"italian\": ita[:, :-1], },\n",
        "          ita[:, 1:])"
      ],
      "metadata": {
        "id": "P-eX_s6VonBi"
      },
      "execution_count": null,
      "outputs": []
    },
    {
      "cell_type": "code",
      "source": [
        "# Create the function to make the dataset\n",
        "def make_dataset(set_pairs):\n",
        "  eng_, ita_ = zip(*set_pairs)\n",
        "  eng_ = list(eng_)\n",
        "  ita_ = list(ita_)\n",
        "  dataset = tf.data.Dataset.from_tensor_slices((eng_, ita_))   #Define the dataset from Tensorflow\n",
        "  dataset = dataset.batch(batch_size)                          #Adapt the dataset with dimension of batch\n",
        "  dataset = dataset.map(format_dataset, num_parallel_calls=4)  #Map the dataset with the function format_dataset\n",
        "  return dataset.shuffle(2048).prefetch(16).cache()"
      ],
      "metadata": {
        "id": "Y_6YNe46oooC"
      },
      "execution_count": null,
      "outputs": []
    },
    {
      "cell_type": "code",
      "source": [
        "# Define the train and validation datasets\n",
        "train_ds = make_dataset(train_pairs)\n",
        "val_ds = make_dataset(val_pairs)"
      ],
      "metadata": {
        "id": "oBJ-ubsmoqOj"
      },
      "execution_count": null,
      "outputs": []
    },
    {
      "cell_type": "code",
      "source": [
        "# Define the first element\n",
        "first_element = train_ds.take(1)\n",
        "\n",
        "# Iterate over the first_element dataset and print each element\n",
        "for eng_text, ita_text in first_element:\n",
        "    print(\"English Text:\", eng_text)\n",
        "    print(\"Italian Text:\", ita_text)"
      ],
      "metadata": {
        "colab": {
          "base_uri": "https://localhost:8080/"
        },
        "id": "ia13kv5uU8Sn",
        "outputId": "ef1331c2-d4be-4e93-fe63-a54889d3dcff"
      },
      "execution_count": null,
      "outputs": [
        {
          "output_type": "stream",
          "name": "stdout",
          "text": [
            "English Text: {'english': <tf.Tensor: shape=(64, 15), dtype=int64, numpy=\n",
            "array([[   25,   248,     7,  1145,    19,    72,    50,     0,     0,\n",
            "            0,     0,     0,     0,     0,     0],\n",
            "       [    3,   115,   118,   250,     6,   913,     0,     0,     0,\n",
            "            0,     0,     0,     0,     0,     0],\n",
            "       [    3,    51,     5,     9,    13,    55,     0,     0,     0,\n",
            "            0,     0,     0,     0,     0,     0],\n",
            "       [   44,     2,   541,    15,     0,     0,     0,     0,     0,\n",
            "            0,     0,     0,     0,     0,     0],\n",
            "       [    4,    90,    47,     6,   231,   393,     0,     0,     0,\n",
            "            0,     0,     0,     0,     0,     0],\n",
            "       [    4,    44,     9,    97,   296,     0,     0,     0,     0,\n",
            "            0,     0,     0,     0,     0,     0],\n",
            "       [   25,   366,    24,   316,     0,     0,     0,     0,     0,\n",
            "            0,     0,     0,     0,     0,     0],\n",
            "       [   76,     3,    18,   955,     0,     0,     0,     0,     0,\n",
            "            0,     0,     0,     0,     0,     0],\n",
            "       [   53,  1240,     0,     0,     0,     0,     0,     0,     0,\n",
            "            0,     0,     0,     0,     0,     0],\n",
            "       [    4,   749,    74,   103,   780,     0,     0,     0,     0,\n",
            "            0,     0,     0,     0,     0,     0],\n",
            "       [   11,   542,   269,     5,   158,    95,    23,    40,  2902,\n",
            "           19,  1203,     0,     0,     0,     0],\n",
            "       [    4,    16,    34,   527,    28,     3,   185,     0,     0,\n",
            "            0,     0,     0,     0,     0,     0],\n",
            "       [   52,    45,  1091,     0,     0,     0,     0,     0,     0,\n",
            "            0,     0,     0,     0,     0,     0],\n",
            "       [    3,  1798,     7,   107,    19,    68,   408,   858,     0,\n",
            "            0,     0,     0,     0,     0,     0],\n",
            "       [  100,   621,    49,   195,     2,   282,    22,     2,    12,\n",
            "            5,     9,    13,     0,     0,     0],\n",
            "       [    4,    86,    30,     5,    12,   108,   125,   457,     0,\n",
            "            0,     0,     0,     0,     0,     0],\n",
            "       [    3,   882,    15,    11,   322,     9,    10,     0,     0,\n",
            "            0,     0,     0,     0,     0,     0],\n",
            "       [    4,    77,    63,     5,     9,    10,     0,     0,     0,\n",
            "            0,     0,     0,     0,     0,     0],\n",
            "       [    2,    20,     7,   301,   435,     0,     0,     0,     0,\n",
            "            0,     0,     0,     0,     0,     0],\n",
            "       [    3,    51,    70,   207,   114,     0,     0,     0,     0,\n",
            "            0,     0,     0,     0,     0,     0],\n",
            "       [   18,   820,     0,     0,     0,     0,     0,     0,     0,\n",
            "            0,     0,     0,     0,     0,     0],\n",
            "       [ 3943,     8,    33,     7,   293,    78,    43,   318,    14,\n",
            "          754,   938,     0,     0,     0,     0],\n",
            "       [   28,    20,   344,  2707,     0,     0,     0,     0,     0,\n",
            "            0,     0,     0,     0,     0,     0],\n",
            "       [    4,  1024,     3,    48,    32,    20,    92,     0,     0,\n",
            "            0,     0,     0,     0,     0,     0],\n",
            "       [   25,  3964,   699,     6,   409,     0,     0,     0,     0,\n",
            "            0,     0,     0,     0,     0,     0],\n",
            "       [    2,   225,   518,    97,     0,     0,     0,     0,     0,\n",
            "            0,     0,     0,     0,     0,     0],\n",
            "       [   72,   550,    37,  1043,     0,     0,     0,     0,     0,\n",
            "            0,     0,     0,     0,     0,     0],\n",
            "       [    4,    27,     5,   382,     3,     0,     0,     0,     0,\n",
            "            0,     0,     0,     0,     0,     0],\n",
            "       [   18,  1517,     0,     0,     0,     0,     0,     0,     0,\n",
            "            0,     0,     0,     0,     0,     0],\n",
            "       [    8,    13,  4400, 11761,     0,     0,     0,     0,     0,\n",
            "            0,     0,     0,     0,     0,     0],\n",
            "       [   11,    17,    33,     7,   139,  6591,     0,     0,     0,\n",
            "            0,     0,     0,     0,     0,     0],\n",
            "       [  204,    90,     5,    39,  1114,     0,     0,     0,     0,\n",
            "            0,     0,     0,     0,     0,     0],\n",
            "       [    4,   142,   151,     0,     0,     0,     0,     0,     0,\n",
            "            0,     0,     0,     0,     0,     0],\n",
            "       [  697,    23,     6,   889,     0,     0,     0,     0,     0,\n",
            "            0,     0,     0,     0,     0,     0],\n",
            "       [    4,  1137,     3,     5,   356,     0,     0,     0,     0,\n",
            "            0,     0,     0,     0,     0,     0],\n",
            "       [   16,   238,    80,   218,     0,     0,     0,     0,     0,\n",
            "            0,     0,     0,     0,     0,     0],\n",
            "       [  112,    15,     6,   133,     0,     0,     0,     0,     0,\n",
            "            0,     0,     0,     0,     0,     0],\n",
            "       [    2,   357,   257,    47,    70,   876,  2686,     0,     0,\n",
            "            0,     0,     0,     0,     0,     0],\n",
            "       [    3,     8,    14,     7,    73,  1346,     0,     0,     0,\n",
            "            0,     0,     0,     0,     0,     0],\n",
            "       [    4,   182,     5,    22,   826,     0,     0,     0,     0,\n",
            "            0,     0,     0,     0,     0,     0],\n",
            "       [   18,   127,   212,    30,    13,     0,     0,     0,     0,\n",
            "            0,     0,     0,     0,     0,     0],\n",
            "       [   89,  4070,     5,   877,     6,   222,    17,  2465,     0,\n",
            "            0,     0,     0,     0,     0,     0],\n",
            "       [ 1818,     8,   101,  1538,   124,   524,     0,     0,     0,\n",
            "            0,     0,     0,     0,     0,     0],\n",
            "       [    4,   205,     3,  2452,    14,    65,     0,     0,     0,\n",
            "            0,     0,     0,     0,     0,     0],\n",
            "       [    6,  1541,     8,    33,   994,   175,     0,     0,     0,\n",
            "            0,     0,     0,     0,     0,     0],\n",
            "       [    4,   237,    21,   880,    23,    26,   229,     0,     0,\n",
            "            0,     0,     0,     0,     0,     0],\n",
            "       [   18,   239,     4,   792,   158,   377,  1299,    14,   319,\n",
            "            0,     0,     0,     0,     0,     0],\n",
            "       [   11,   285,   264,  2450,   103,   353,   164,     0,     0,\n",
            "            0,     0,     0,     0,     0,     0],\n",
            "       [   18,    58,     5,   194,     2,     7,  4737,    19,   438,\n",
            "            0,     0,     0,     0,     0,     0],\n",
            "       [  131,    30,     7,   256,     0,     0,     0,     0,     0,\n",
            "            0,     0,     0,     0,     0,     0],\n",
            "       [   20,     2,   414,   151,     0,     0,     0,     0,     0,\n",
            "            0,     0,     0,     0,     0,     0],\n",
            "       [    7,  2602,    17,  1685,     0,     0,     0,     0,     0,\n",
            "            0,     0,     0,     0,     0,     0],\n",
            "       [   96,     9,     2,   105,     0,     0,     0,     0,     0,\n",
            "            0,     0,     0,     0,     0,     0],\n",
            "       [    3,    51,     7,  1125,   898,    19,  2289,     0,     0,\n",
            "            0,     0,     0,     0,     0,     0],\n",
            "       [    3,  1380,    23,    33,   330,  1336,     0,     0,     0,\n",
            "            0,     0,     0,     0,     0,     0],\n",
            "       [   66,     3,     0,     0,     0,     0,     0,     0,     0,\n",
            "            0,     0,     0,     0,     0,     0],\n",
            "       [   37,  3536,     0,     0,     0,     0,     0,     0,     0,\n",
            "            0,     0,     0,     0,     0,     0],\n",
            "       [  126,     7,  1119,     0,     0,     0,     0,     0,     0,\n",
            "            0,     0,     0,     0,     0,     0],\n",
            "       [    4,   110,     6,  1355,    28,     4,   242,     0,     0,\n",
            "            0,     0,     0,     0,     0,     0],\n",
            "       [  165,     7,   240,    55,     0,     0,     0,     0,     0,\n",
            "            0,     0,     0,     0,     0,     0],\n",
            "       [    8,    24,   365,     7,  1828,  4843,     0,     0,     0,\n",
            "            0,     0,     0,     0,     0,     0],\n",
            "       [   46,  6703,    74,     0,     0,     0,     0,     0,     0,\n",
            "            0,     0,     0,     0,     0,     0],\n",
            "       [    3,    54,    45,  6266,     0,     0,     0,     0,     0,\n",
            "            0,     0,     0,     0,     0,     0],\n",
            "       [   11,   508,  1504,    42,    15,     0,     0,     0,     0,\n",
            "            0,     0,     0,     0,     0,     0]])>, 'italian': <tf.Tensor: shape=(64, 15), dtype=int64, numpy=\n",
            "array([[    2,    36,    79,   264,    20,  1549,    56,  3511,     6,\n",
            "            4,     3,     0,     0,     0,     0],\n",
            "       [    2,     4,     8,   648,    17,   773,     3,     0,     0,\n",
            "            0,     0,     0,     0,     0,     0],\n",
            "       [    2,     4,   128,    99,   109,     3,     0,     0,     0,\n",
            "            0,     0,     0,     0,     0,     0],\n",
            "       [    2,     5,    72,    15,  3060,     3,     0,     0,     0,\n",
            "            0,     0,     0,     0,     0,     0],\n",
            "       [    2,    12,  5581,   200,   393,   450,     3,     0,     0,\n",
            "            0,     0,     0,     0,     0,     0],\n",
            "       [    2,    12,     5,    19,    69,   123,     6,   240,     3,\n",
            "            0,     0,     0,     0,     0,     0],\n",
            "       [    2,  5004,    11,   146,   310,     3,     0,     0,     0,\n",
            "            0,     0,     0,     0,     0,     0],\n",
            "       [    2,   611,     7,     4,     9,    15,  1114,     3,     0,\n",
            "            0,     0,     0,     0,     0,     0],\n",
            "       [    2,  5202,     3,     0,     0,     0,     0,     0,     0,\n",
            "            0,     0,     0,     0,     0,     0],\n",
            "       [    2,    29, 22879,     6,   573,     3,     0,     0,     0,\n",
            "            0,     0,     0,     0,     0,     0],\n",
            "       [    2,    13,   835,   577,    16, 13777,    74,    64,  4135,\n",
            "            6,  1930,     3,     0,     0,     0],\n",
            "       [    2,    12,     5,    83,   514,     9,    39,    90,     4,\n",
            "            3,     0,     0,     0,     0,     0],\n",
            "       [    2, 12827,  1017,     3,     0,     0,     0,     0,     0,\n",
            "            0,     0,     0,     0,     0,     0],\n",
            "       [    2,     4,  3024,    27,   111,     7,   318,     7,   674,\n",
            "            3,     0,     0,     0,     0,     0],\n",
            "       [    2,     5,   518,   134,    45,   787,    38,   311,   220,\n",
            "          526,     3,     0,     0,     0,     0],\n",
            "       [    2,    18,   385,   172,    14,   214,    87,     6,   445,\n",
            "            3,     0,     0,     0,     0,     0],\n",
            "       [    2,     4,    18,    13,  1087,     9,     5,    29,   369,\n",
            "           69,     3,     0,     0,     0,     0],\n",
            "       [    2,    12,   122,    55,    99,     3,     0,     0,     0,\n",
            "            0,     0,     0,     0,     0,     0],\n",
            "       [    2,    41,    20,   387,   322,     3,     0,     0,     0,\n",
            "            0,     0,     0,     0,     0,     0],\n",
            "       [    2,     4,    13,    20,   914,   690,     3,     0,     0,\n",
            "            0,     0,     0,     0,     0,     0],\n",
            "       [    2,    12,   118,    15,  1093,     3,     0,     0,     0,\n",
            "            0,     0,     0,     0,     0,     0],\n",
            "       [    2,    10,  5718,     5,     8,    20,    39,     9,    31,\n",
            "          105,   367,    17,    41,  1035,     3],\n",
            "       [    2,    39,    15,  1198,  3793,     3,     0,     0,     0,\n",
            "            0,     0,     0,     0,     0,     0],\n",
            "       [    2,  1153,     9,     4,    40,    24,   739,     7,    59,\n",
            "            3,     0,     0,     0,     0,     0],\n",
            "       [    2,  1383,   355,   235,  1169,     3,     0,     0,     0,\n",
            "            0,     0,     0,     0,     0,     0],\n",
            "       [    2,     5,    13,   251,   125,     3,     0,     0,     0,\n",
            "            0,     0,     0,     0,     0,     0],\n",
            "       [    2,    26,   579,     6,     4,   237,  3635,     3,     0,\n",
            "            0,     0,     0,     0,     0,     0],\n",
            "       [    2,    54,   968,     4,     3,     0,     0,     0,     0,\n",
            "            0,     0,     0,     0,     0,     0],\n",
            "       [    2,    12,    15,  5203,     3,     0,     0,     0,     0,\n",
            "            0,     0,     0,     0,     0,     0],\n",
            "       [    2,    22, 12279,  1083,  2658,     3,     0,     0,     0,\n",
            "            0,     0,     0,     0,     0,     0],\n",
            "       [    2,    35,     5,   165,  8265,  1994,     3,     0,     0,\n",
            "            0,     0,     0,     0,     0,     0],\n",
            "       [    2,   128,    63,    37,   875,     3,     0,     0,     0,\n",
            "            0,     0,     0,     0,     0,     0],\n",
            "       [    2,    12,    42,   118,   437,   141,     3,     0,     0,\n",
            "            0,     0,     0,     0,     0,     0],\n",
            "       [    2,   434,    16,    10,  1678,     3,     0,     0,     0,\n",
            "            0,     0,     0,     0,     0,     0],\n",
            "       [    2,    18,  1553,     9,     4,  5498,     3,     0,     0,\n",
            "            0,     0,     0,     0,     0,     0],\n",
            "       [    2,     5,  1334,    91,     3,     0,     0,     0,     0,\n",
            "            0,     0,     0,     0,     0,     0],\n",
            "       [    2,   843,    11,   119,     3,     0,     0,     0,     0,\n",
            "            0,     0,     0,     0,     0,     0],\n",
            "       [    2,     5,   374,   402,     7,  2272,  1940,     3,     0,\n",
            "            0,     0,     0,     0,     0,     0],\n",
            "       [    2,     4,     8,     6,   333,  1859,     3,     0,     0,\n",
            "            0,     0,     0,     0,     0,     0],\n",
            "       [    2,    12,    98,  1619,     3,     0,     0,     0,     0,\n",
            "            0,     0,     0,     0,     0,     0],\n",
            "       [    2,    15,   254,     9,    26,   869,     3,     0,     0,\n",
            "            0,     0,     0,     0,     0,     0],\n",
            "       [    2,    10,    64,   288,    16,   666,   114,  1310,   307,\n",
            "        13867,     3,     0,     0,     0,     0],\n",
            "       [    2,    10,  2345,     8,    27,    37,   201,    56,   517,\n",
            "            3,     0,     0,     0,     0,     0],\n",
            "       [    2,   221,     9,     4,  2492,     7,    70,     3,     0,\n",
            "            0,     0,     0,     0,     0,     0],\n",
            "       [    2,    10,  1861,     5,     8,    55,  5147,     3,     0,\n",
            "            0,     0,     0,     0,     0,     0],\n",
            "       [    2,    19,   191,    60,   924,    16,    50,   184,     3,\n",
            "            0,     0,     0,     0,     0,     0],\n",
            "       [    2,   903,     6,     5,  1977,     7,  1299,   550,    17,\n",
            "          551,     3,     0,     0,     0,     0],\n",
            "       [    2,    96,    66,    38,  5784,    30,   205,  1159,     3,\n",
            "            0,     0,     0,     0,     0,     0],\n",
            "       [    2,    72,   429,    20,  2411,     6,   499,     3,     0,\n",
            "            0,     0,     0,     0,     0,     0],\n",
            "       [    2,     7,    42,   385,    14,   230,     3,     0,     0,\n",
            "            0,     0,     0,     0,     0,     0],\n",
            "       [    2,    22,   783,   141,     3,     0,     0,     0,     0,\n",
            "            0,     0,     0,     0,     0,     0],\n",
            "       [    2,   307,  1990,    14,  2595,     3,     0,     0,     0,\n",
            "            0,     0,     0,     0,     0,     0],\n",
            "       [    2,   106,  1928,     3,     0,     0,     0,     0,     0,\n",
            "            0,     0,     0,     0,     0,     0],\n",
            "       [    2,     4,    13,   158,   575,   854,  4399,     3,     0,\n",
            "            0,     0,     0,     0,     0,     0],\n",
            "       [    2,     4,    31,     8,  2369,    16,     5,    38,   389,\n",
            "          136,     3,     0,     0,     0,     0],\n",
            "       [    2,  2430,     4,     3,     0,     0,     0,     0,     0,\n",
            "            0,     0,     0,     0,     0,     0],\n",
            "       [    2,    73,  2552,     3,     0,     0,     0,     0,     0,\n",
            "            0,     0,     0,     0,     0,     0],\n",
            "       [    2,  3037,     3,     0,     0,     0,     0,     0,     0,\n",
            "            0,     0,     0,     0,     0,     0],\n",
            "       [    2,  1102,    67,  1307,    75,     9,   287,     3,     0,\n",
            "            0,     0,     0,     0,     0,     0],\n",
            "       [    2,    22,    14,   378,   109,     3,     0,     0,     0,\n",
            "            0,     0,     0,     0,     0,     0],\n",
            "       [    2,    48,   358,     8,    14,  7844,     6,  4086,     3,\n",
            "            0,     0,     0,     0,     0,     0],\n",
            "       [    2,    29, 12894,     3,     0,     0,     0,     0,     0,\n",
            "            0,     0,     0,     0,     0,     0],\n",
            "       [    2,     4,     5,     8,    27, 19486,     3,     0,     0,\n",
            "            0,     0,     0,     0,     0,     0],\n",
            "       [    2,    35,    13,  1242,     7,  7208,     3,     0,     0,\n",
            "            0,     0,     0,     0,     0,     0]])>}\n",
            "Italian Text: tf.Tensor(\n",
            "[[   36    79   264    20  1549    56  3511     6     4     3     0     0\n",
            "      0     0     0]\n",
            " [    4     8   648    17   773     3     0     0     0     0     0     0\n",
            "      0     0     0]\n",
            " [    4   128    99   109     3     0     0     0     0     0     0     0\n",
            "      0     0     0]\n",
            " [    5    72    15  3060     3     0     0     0     0     0     0     0\n",
            "      0     0     0]\n",
            " [   12  5581   200   393   450     3     0     0     0     0     0     0\n",
            "      0     0     0]\n",
            " [   12     5    19    69   123     6   240     3     0     0     0     0\n",
            "      0     0     0]\n",
            " [ 5004    11   146   310     3     0     0     0     0     0     0     0\n",
            "      0     0     0]\n",
            " [  611     7     4     9    15  1114     3     0     0     0     0     0\n",
            "      0     0     0]\n",
            " [ 5202     3     0     0     0     0     0     0     0     0     0     0\n",
            "      0     0     0]\n",
            " [   29 22879     6   573     3     0     0     0     0     0     0     0\n",
            "      0     0     0]\n",
            " [   13   835   577    16 13777    74    64  4135     6  1930     3     0\n",
            "      0     0     0]\n",
            " [   12     5    83   514     9    39    90     4     3     0     0     0\n",
            "      0     0     0]\n",
            " [12827  1017     3     0     0     0     0     0     0     0     0     0\n",
            "      0     0     0]\n",
            " [    4  3024    27   111     7   318     7   674     3     0     0     0\n",
            "      0     0     0]\n",
            " [    5   518   134    45   787    38   311   220   526     3     0     0\n",
            "      0     0     0]\n",
            " [   18   385   172    14   214    87     6   445     3     0     0     0\n",
            "      0     0     0]\n",
            " [    4    18    13  1087     9     5    29   369    69     3     0     0\n",
            "      0     0     0]\n",
            " [   12   122    55    99     3     0     0     0     0     0     0     0\n",
            "      0     0     0]\n",
            " [   41    20   387   322     3     0     0     0     0     0     0     0\n",
            "      0     0     0]\n",
            " [    4    13    20   914   690     3     0     0     0     0     0     0\n",
            "      0     0     0]\n",
            " [   12   118    15  1093     3     0     0     0     0     0     0     0\n",
            "      0     0     0]\n",
            " [   10  5718     5     8    20    39     9    31   105   367    17    41\n",
            "   1035     3     0]\n",
            " [   39    15  1198  3793     3     0     0     0     0     0     0     0\n",
            "      0     0     0]\n",
            " [ 1153     9     4    40    24   739     7    59     3     0     0     0\n",
            "      0     0     0]\n",
            " [ 1383   355   235  1169     3     0     0     0     0     0     0     0\n",
            "      0     0     0]\n",
            " [    5    13   251   125     3     0     0     0     0     0     0     0\n",
            "      0     0     0]\n",
            " [   26   579     6     4   237  3635     3     0     0     0     0     0\n",
            "      0     0     0]\n",
            " [   54   968     4     3     0     0     0     0     0     0     0     0\n",
            "      0     0     0]\n",
            " [   12    15  5203     3     0     0     0     0     0     0     0     0\n",
            "      0     0     0]\n",
            " [   22 12279  1083  2658     3     0     0     0     0     0     0     0\n",
            "      0     0     0]\n",
            " [   35     5   165  8265  1994     3     0     0     0     0     0     0\n",
            "      0     0     0]\n",
            " [  128    63    37   875     3     0     0     0     0     0     0     0\n",
            "      0     0     0]\n",
            " [   12    42   118   437   141     3     0     0     0     0     0     0\n",
            "      0     0     0]\n",
            " [  434    16    10  1678     3     0     0     0     0     0     0     0\n",
            "      0     0     0]\n",
            " [   18  1553     9     4  5498     3     0     0     0     0     0     0\n",
            "      0     0     0]\n",
            " [    5  1334    91     3     0     0     0     0     0     0     0     0\n",
            "      0     0     0]\n",
            " [  843    11   119     3     0     0     0     0     0     0     0     0\n",
            "      0     0     0]\n",
            " [    5   374   402     7  2272  1940     3     0     0     0     0     0\n",
            "      0     0     0]\n",
            " [    4     8     6   333  1859     3     0     0     0     0     0     0\n",
            "      0     0     0]\n",
            " [   12    98  1619     3     0     0     0     0     0     0     0     0\n",
            "      0     0     0]\n",
            " [   15   254     9    26   869     3     0     0     0     0     0     0\n",
            "      0     0     0]\n",
            " [   10    64   288    16   666   114  1310   307 13867     3     0     0\n",
            "      0     0     0]\n",
            " [   10  2345     8    27    37   201    56   517     3     0     0     0\n",
            "      0     0     0]\n",
            " [  221     9     4  2492     7    70     3     0     0     0     0     0\n",
            "      0     0     0]\n",
            " [   10  1861     5     8    55  5147     3     0     0     0     0     0\n",
            "      0     0     0]\n",
            " [   19   191    60   924    16    50   184     3     0     0     0     0\n",
            "      0     0     0]\n",
            " [  903     6     5  1977     7  1299   550    17   551     3     0     0\n",
            "      0     0     0]\n",
            " [   96    66    38  5784    30   205  1159     3     0     0     0     0\n",
            "      0     0     0]\n",
            " [   72   429    20  2411     6   499     3     0     0     0     0     0\n",
            "      0     0     0]\n",
            " [    7    42   385    14   230     3     0     0     0     0     0     0\n",
            "      0     0     0]\n",
            " [   22   783   141     3     0     0     0     0     0     0     0     0\n",
            "      0     0     0]\n",
            " [  307  1990    14  2595     3     0     0     0     0     0     0     0\n",
            "      0     0     0]\n",
            " [  106  1928     3     0     0     0     0     0     0     0     0     0\n",
            "      0     0     0]\n",
            " [    4    13   158   575   854  4399     3     0     0     0     0     0\n",
            "      0     0     0]\n",
            " [    4    31     8  2369    16     5    38   389   136     3     0     0\n",
            "      0     0     0]\n",
            " [ 2430     4     3     0     0     0     0     0     0     0     0     0\n",
            "      0     0     0]\n",
            " [   73  2552     3     0     0     0     0     0     0     0     0     0\n",
            "      0     0     0]\n",
            " [ 3037     3     0     0     0     0     0     0     0     0     0     0\n",
            "      0     0     0]\n",
            " [ 1102    67  1307    75     9   287     3     0     0     0     0     0\n",
            "      0     0     0]\n",
            " [   22    14   378   109     3     0     0     0     0     0     0     0\n",
            "      0     0     0]\n",
            " [   48   358     8    14  7844     6  4086     3     0     0     0     0\n",
            "      0     0     0]\n",
            " [   29 12894     3     0     0     0     0     0     0     0     0     0\n",
            "      0     0     0]\n",
            " [    4     5     8    27 19486     3     0     0     0     0     0     0\n",
            "      0     0     0]\n",
            " [   35    13  1242     7  7208     3     0     0     0     0     0     0\n",
            "      0     0     0]], shape=(64, 15), dtype=int64)\n"
          ]
        }
      ]
    },
    {
      "cell_type": "code",
      "source": [
        "# Print the shape of each element\n",
        "for inputs, targets in first_element:\n",
        "  print(f\"inputs['english'].shape: {inputs['english'].shape}\")\n",
        "  print(f\"inputs['italian'].shape: {inputs['italian'].shape}\")\n",
        "  print(f\"targets.shape: {targets.shape}\")"
      ],
      "metadata": {
        "colab": {
          "base_uri": "https://localhost:8080/"
        },
        "id": "oi6Cz9COU-Of",
        "outputId": "c4305e1c-227b-4890-cd48-bbd8decd2e36"
      },
      "execution_count": null,
      "outputs": [
        {
          "output_type": "stream",
          "name": "stdout",
          "text": [
            "inputs['english'].shape: (64, 15)\n",
            "inputs['italian'].shape: (64, 15)\n",
            "targets.shape: (64, 15)\n"
          ]
        }
      ]
    },
    {
      "cell_type": "markdown",
      "source": [
        "#***RNN: BIDIRECTIONAL WITH GRU***"
      ],
      "metadata": {
        "id": "6CExL-jbVBCb"
      }
    },
    {
      "cell_type": "markdown",
      "source": [
        "# Definition of the RNN decoder and encoder\n",
        "\n",
        "In this part we've defined the **first model** to perform the task of translation. <br>\n",
        "\n",
        "Firstly, we have defined the **ENCODER** with different layers:\n",
        "- **Input Layer**: it defines the input of the encoder (English sentences). The *\"shape\"* = (None,) indicates that the sequences could be various lengths.\n",
        "- **Embedding Layer**: from our vectors of dimension (64,25), it creates 30000 (dictionary_size) embeddings of dimensions 256. The parameter \"*mask_zero*\"= **True** allows the embedding to not consider the 0s elements of the input vectors (because Text Vectorization layer have padded the sequences < 25 words).\n",
        "- **Bidirectional Layer**: it is a bidirectional RNN unit that works with 2 GRU. The output of the two GRU will be summed (*merge_mode = 'sum'*). <br>\n",
        "\n",
        "Then, we've defined the **DECODER** with some layers:\n",
        " - **Input Layer**: it has the same function of the encoder's one but we give as inputs Italian sentences (that are the actual target).\n",
        " - **Embedding Layer**: it has the same functions of the encoder's one.\n",
        " - **GRU Layer**: it is a RNN unit that has as *input* the Italian sentence (actual target) and as parameter \"*hidden_state*\" the output of the encoder part (which corresponds to the initial state of the decoder).\n",
        " - **Dropout Layer**: it removes temporarily 50% of the units during training to avoid overfitting.\n",
        " - **Dense Laye**r: it is a classic *Multilayer Perceptron* that allows the prediction of the next token through the softmax (as *activation function*)."
      ],
      "metadata": {
        "id": "xOkyaYFrVBkv"
      }
    },
    {
      "cell_type": "code",
      "source": [
        "# Define Embedding dimension and Latent dimension\n",
        "embed_dim = 256\n",
        "hid_dim = 1024"
      ],
      "metadata": {
        "id": "WPnuz6Q0osDq"
      },
      "execution_count": null,
      "outputs": []
    },
    {
      "cell_type": "code",
      "source": [
        "# Bidirectional based encoder\n",
        "input_eng = Input(shape=(None,), dtype=\"int64\", name=\"english\")\n",
        "embedding_enc = Embedding(dictionary_size, embed_dim, mask_zero=True)(input_eng)\n",
        "encoded_source = Bidirectional(GRU(hid_dim), merge_mode=\"sum\")(embedding_enc)"
      ],
      "metadata": {
        "id": "V175qn9xotv7"
      },
      "execution_count": null,
      "outputs": []
    },
    {
      "cell_type": "code",
      "source": [
        "# GRU based decoder\n",
        "input_ita = Input(shape=(None,), dtype=\"int64\", name=\"italian\")\n",
        "embedding_dec = Embedding(dictionary_size, embed_dim, mask_zero=True)(input_ita)\n",
        "decoder_gru = GRU(hid_dim, return_sequences=True)\n",
        "dec_gru = decoder_gru(embedding_dec, initial_state=encoded_source)\n",
        "dropout = Dropout(0.5)(dec_gru)\n",
        "output_target = Dense(dictionary_size, activation=\"softmax\")(dropout)"
      ],
      "metadata": {
        "id": "7CQNvzCYowA6"
      },
      "execution_count": null,
      "outputs": []
    },
    {
      "cell_type": "markdown",
      "source": [
        "# Define the model, compile and train it\n",
        "\n",
        "We have defined the model (encoder and decoder) calling it 'model_seq2seq_GRU'.\n",
        "\n",
        "In the compiling part we choose as **optimizer** '*adam*', as **loss** '*sparse_categorical_crossentropy*' and as **metrics** '*accuracy*'. <br>\n",
        "Then, we **train** the model and we see the performance also on the **Validation** set."
      ],
      "metadata": {
        "id": "ChED4m6YVIJf"
      }
    },
    {
      "cell_type": "code",
      "source": [
        "#Define the model\n",
        "model_seq2seq_GRU = Model([input_eng, input_ita], output_target)"
      ],
      "metadata": {
        "id": "qa2WYFY1ox5U"
      },
      "execution_count": null,
      "outputs": []
    },
    {
      "cell_type": "code",
      "source": [
        "model_seq2seq_GRU.compile(\n",
        " optimizer=\"adam\",\n",
        " loss=\"sparse_categorical_crossentropy\",\n",
        " metrics=['accuracy'])"
      ],
      "metadata": {
        "id": "W24chY6Xo0Fa"
      },
      "execution_count": null,
      "outputs": []
    },
    {
      "cell_type": "code",
      "source": [
        "GRU_history = model_seq2seq_GRU.fit(train_ds, epochs=5, validation_data=val_ds)"
      ],
      "metadata": {
        "colab": {
          "base_uri": "https://localhost:8080/"
        },
        "id": "5L-CeoN2TOTh",
        "outputId": "7cb4c7d5-2d2e-4a3a-e27f-46b571ce0b42"
      },
      "execution_count": null,
      "outputs": [
        {
          "output_type": "stream",
          "name": "stdout",
          "text": [
            "Epoch 1/5\n",
            "3187/3187 [==============================] - 387s 115ms/step - loss: 2.7673 - accuracy: 0.5409 - val_loss: 1.4888 - val_accuracy: 0.7013\n",
            "Epoch 2/5\n",
            "3187/3187 [==============================] - 337s 106ms/step - loss: 1.2865 - accuracy: 0.7229 - val_loss: 1.0581 - val_accuracy: 0.7661\n",
            "Epoch 3/5\n",
            "3187/3187 [==============================] - 332s 104ms/step - loss: 0.9134 - accuracy: 0.7756 - val_loss: 0.9439 - val_accuracy: 0.7867\n",
            "Epoch 4/5\n",
            "3187/3187 [==============================] - 330s 103ms/step - loss: 0.7498 - accuracy: 0.8007 - val_loss: 0.9052 - val_accuracy: 0.7953\n",
            "Epoch 5/5\n",
            "3187/3187 [==============================] - 329s 103ms/step - loss: 0.6565 - accuracy: 0.8165 - val_loss: 0.8943 - val_accuracy: 0.7994\n"
          ]
        }
      ]
    },
    {
      "cell_type": "markdown",
      "source": [
        "#***TRANSFORMERS***"
      ],
      "metadata": {
        "id": "UjjofjcWWJ6G"
      }
    },
    {
      "cell_type": "markdown",
      "source": [
        "We're defining the transformer architecture, to perform the machine translation task, instead of using the RNN models. <br>\n",
        "This because we want to exploit the parallelization to generate a more natural and human-like translation, but also to speed up the process.<br>\n",
        "And also because we want to detect correctly the long-term dependencies of the sentence's terms.\n",
        "\n",
        "So, at first, to define the architecture we define 3 different classes:\n",
        "- Positional Embedding: to be aware of the position of the tokens in the input sentence\n",
        "- Transformer Encoder: to set up the encoder of the transformer model, since we are in a seq-2-seq task.\n",
        "- Transformer Decoder: to set up the decoder of the transformer, in order to make the translation of the input sentence.\n",
        "\n",
        "To design all this, we've looked at the Keras documentation on Transformers, available online."
      ],
      "metadata": {
        "id": "0q0fPDcnWMcs"
      }
    },
    {
      "cell_type": "markdown",
      "source": [
        "### ***Positional Embedding***\n",
        "This embedding is used to be aware of the *position of the tokens* is the sentence, which is fundamental to get a right translation. <br>\n",
        "This has to be done, since we provide to the model all the tokens embeddings in parallel, so regardless their position.\n",
        "\n",
        "We've *different method* to define this class:\n",
        "- **init**: we intialize the class's attributes, that define all the elements that we need, including token embedding and the position embedding.\n",
        "- **call**: method to return the sum of the token embedding and the positional embedding(embedding vectors), based on the input what we pass as parameter.\n",
        "- **compute_mask**: generate mask to ignore the 0s padding that we have made when we've set the sequence lenght equal to 15 also for sequence with less than 15 tokens.\n",
        "- **get_config**: to save this configuration and to use it when we call it in other layers."
      ],
      "metadata": {
        "id": "o0ln5pffWPsz"
      }
    },
    {
      "cell_type": "code",
      "source": [
        "class PositionalEmbedding(layers.Layer):\n",
        "  def __init__(self, sequence_length, input_dim, output_dim, **kwargs):\n",
        "    super().__init__(**kwargs)\n",
        "    self.token_embeddings = layers.Embedding(input_dim=input_dim,\n",
        "                                             output_dim=output_dim)\n",
        "    self.position_embeddings = layers.Embedding(input_dim=sequence_length,\n",
        "                                                output_dim=output_dim)\n",
        "    self.sequence_length = sequence_length\n",
        "    self.input_dim = input_dim\n",
        "    self.output_dim = output_dim\n",
        "\n",
        "  def call(self, inputs):\n",
        "    length = tf.shape(inputs)[-1]\n",
        "    positions = tf.range(start=0, limit=length, delta=1)\n",
        "    embedded_tokens = self.token_embeddings(inputs)\n",
        "    embedded_positions = self.position_embeddings(positions)\n",
        "    return embedded_tokens + embedded_positions\n",
        "\n",
        "  def compute_mask(self, inputs, mask=None):\n",
        "    return tf.math.not_equal(inputs, 0)\n",
        "\n",
        "  def get_config(self):\n",
        "    config = super().get_config()\n",
        "    config.update({\n",
        "      \"output_dim\": self.output_dim,\n",
        "      \"sequence_length\": self.sequence_length,\n",
        "      \"input_dim\": self.input_dim,})\n",
        "    return config"
      ],
      "metadata": {
        "id": "Zq0YK8EepHZD"
      },
      "execution_count": null,
      "outputs": []
    },
    {
      "cell_type": "markdown",
      "source": [
        "###***Transformer Encoder***\n",
        "In a seq-2-seq model we have at first an **encoder**, to get the parsed representation of the entire input sequence.\n",
        "\n",
        "At first we use **multi head attention layer**, to understand which parts of the sentence are more related to each word of the sentence. <br>\n",
        "We obtain a vector that we combine with the original input vector, using a skip connection. <br>\n",
        "Then we normalize using the **layerNormalization**.\n",
        "\n",
        "Then we process this with a **feed-forward network**(MLP) with 2 dense layers. <br>\n",
        "The output that we obtain is then added with again the input vector, using another skip connection, and this sum will be normalized using a **layerNormalization**.\n",
        "\n",
        "This will be the input of the decoder part.\n",
        "\n",
        "We have different methods to define this clas:\n",
        "- init: where we've defined all the layers described above.\n",
        "- call: performs all the computations, so computes the attention output, the projection input(after the addition of the input vector and normalization), the projection output and the normalized sum of this latter with the input vector.\n",
        "- get_config: returns a dictionary which is the encoder configuration, used when we call the encoder in the model."
      ],
      "metadata": {
        "id": "vIm9NPfHWSYF"
      }
    },
    {
      "cell_type": "code",
      "source": [
        "class TransformerEncoder(layers.Layer):\n",
        "  def __init__(self, embed_dim, dense_dim, num_heads, **kwargs):\n",
        "    super().__init__(**kwargs)\n",
        "    self.embed_dim = embed_dim\n",
        "    self.dense_dim = dense_dim\n",
        "    self.num_heads = num_heads\n",
        "    self.attention = layers.MultiHeadAttention(num_heads=num_heads,\n",
        "                                               key_dim=embed_dim)\n",
        "    self.dense_proj = keras.Sequential([layers.Dense(dense_dim, activation=\"relu\"),\n",
        "                                        layers.Dense(embed_dim),])\n",
        "    self.layernorm_1 = layers.LayerNormalization()\n",
        "    self.layernorm_2 = layers.LayerNormalization()\n",
        "\n",
        "  def call(self, inputs, mask=None):\n",
        "    if mask is not None:\n",
        "      mask = mask[:, tf.newaxis, :]\n",
        "    attention_output = self.attention(\n",
        "      inputs, inputs, attention_mask=mask)\n",
        "    proj_input = self.layernorm_1(inputs + attention_output)\n",
        "    proj_output = self.dense_proj(proj_input)\n",
        "    return self.layernorm_2(proj_input + proj_output)\n",
        "\n",
        "  def get_config(self):\n",
        "    config = super().get_config()\n",
        "    config.update({\n",
        "      \"embed_dim\": self.embed_dim,\n",
        "      \"num_heads\": self.num_heads,\n",
        "      \"dense_dim\": self.dense_dim,\n",
        "    })\n",
        "    return config"
      ],
      "metadata": {
        "id": "Y9tkLyj9pJNV"
      },
      "execution_count": null,
      "outputs": []
    },
    {
      "cell_type": "markdown",
      "source": [
        "Now, since we've defined the **encoder**, we define the **decoder**, to get the predicted translated sentence.\n",
        "\n",
        "As with the encoder, we have at first to define **multi head attention layer**, but in this case are 2 different layers, each followed by a combination with the original target vector, using a skip connection. <br>\n",
        "For the second multi-head attention layer we have also as input the output of the encoder.<br>\n",
        "And then we normalize using the **layerNormalization**, as with the encoder.\n",
        "\n",
        "Then we process this with a **feed-forward network**(MLP) with 2 dense layers. <br>\n",
        "The output that we obtain is then added with again the target vector, using another skip connection, and this sum will be normalized using a **layerNormalization**.\n",
        "\n",
        "The output of the decoder will be the input of a linear layer, followed by a softmax layer, that will output the probability distribution of the predicted token. <br>\n",
        "All these tokens will composed the predicted translated sentence.\n",
        "\n",
        "We have different methods to define this clas:\n",
        "- init: where we've defined all the layers described above.\n",
        "- call: performs all the computations that we've defined. In particular, as the first step, it prepares the input mask, which describes the padding location in the target. This will be passed to the first attention layer, which performes self-attention over the target sequence.\n",
        "- get_causal_attention_mask: used to look with attention only the words before the last one, the one we focus on, for which we compute the attention mechanism. This because we are in the decoder and we can't look the whole target sentence, but only the words already predicted.\n",
        "- get_config: returns a dictionary which is the encoder configuration, used when we call the encoder in the model."
      ],
      "metadata": {
        "id": "KNq0HlCcWVHQ"
      }
    },
    {
      "cell_type": "code",
      "source": [
        "class TransformerDecoder(layers.Layer):\n",
        "  def __init__(self, embed_dim, dense_dim, num_heads, **kwargs):\n",
        "    super().__init__(**kwargs)\n",
        "    self.embed_dim = embed_dim\n",
        "    self.dense_dim = dense_dim\n",
        "    self.num_heads = num_heads\n",
        "    self.attention_1 = layers.MultiHeadAttention(\n",
        "      num_heads=num_heads, key_dim=embed_dim)\n",
        "    self.attention_2 = layers.MultiHeadAttention(\n",
        "      num_heads=num_heads, key_dim=embed_dim)\n",
        "    self.dense_proj = keras.Sequential(\n",
        "        [layers.Dense(dense_dim, activation=\"relu\"),\n",
        "        layers.Dense(embed_dim),]\n",
        "        )\n",
        "    self.layernorm_1 = layers.LayerNormalization()\n",
        "    self.layernorm_2 = layers.LayerNormalization()\n",
        "    self.layernorm_3 = layers.LayerNormalization()\n",
        "    self.supports_masking = True\n",
        "\n",
        "  def get_config(self):\n",
        "    config = super().get_config()\n",
        "    config.update({\n",
        "      \"embed_dim\": self.embed_dim,\n",
        "      \"num_heads\": self.num_heads,\n",
        "      \"dense_dim\": self.dense_dim,\n",
        "      })\n",
        "    return config\n",
        "\n",
        "  def get_causal_attention_mask(self, inputs):\n",
        "    input_shape = tf.shape(inputs)\n",
        "    batch_size, sequence_length = input_shape[0], input_shape[1]\n",
        "    i = tf.range(sequence_length)[:, tf.newaxis]\n",
        "    j = tf.range(sequence_length)\n",
        "    mask = tf.cast(i >= j, dtype=\"int32\")\n",
        "    mask = tf.reshape(mask, (1, input_shape[1], input_shape[1]))\n",
        "    mult = tf.concat([tf.expand_dims(batch_size, -1),\n",
        "                      tf.constant([1, 1], dtype=tf.int32)], axis=0)\n",
        "    return tf.tile(mask, mult)\n",
        "\n",
        "  def call(self, inputs, encoder_outputs, mask=None):\n",
        "    causal_mask = self.get_causal_attention_mask(inputs)\n",
        "    if mask is not None:\n",
        "      padding_mask = tf.cast(mask[:, tf.newaxis, :], dtype=\"int32\")\n",
        "      padding_mask = tf.minimum(padding_mask, causal_mask)\n",
        "    attention_output_1 = self.attention_1(query=inputs,\n",
        "                                          value=inputs,\n",
        "                                          key=inputs,\n",
        "                                          attention_mask=causal_mask)\n",
        "    attention_output_1 = self.layernorm_1(inputs + attention_output_1)\n",
        "    attention_output_2 = self.attention_2(query=attention_output_1,\n",
        "                                          value=encoder_outputs,\n",
        "                                          key=encoder_outputs,\n",
        "                                          attention_mask=padding_mask,)\n",
        "    attention_output_2 = self.layernorm_2(attention_output_1 + attention_output_2)\n",
        "    proj_output = self.dense_proj(attention_output_2)\n",
        "    return self.layernorm_3(attention_output_2 + proj_output)"
      ],
      "metadata": {
        "id": "0PDU8BRvpMJR"
      },
      "execution_count": null,
      "outputs": []
    },
    {
      "cell_type": "markdown",
      "source": [
        "###***Creation of the model and training***\n",
        "Now we create the transformer-model with the different layers.\n",
        "\n",
        "We have defined:\n",
        "- embedding dimension: the number of components of the embedding vector( 256)\n",
        "- dense dimension: the number of neurons in each dense layer of the FFNN (2048)\n",
        "- number of heads: number of times we perform the self-attention of the token, in order to focus on different parts of the taget sentence. We use 8, as was stated in the paper that introduced Transformers. This has to be a low number to keep interpretability.\n",
        "\n",
        "In encoder part we have the input layer, which takes the embedding of the input token. <br>\n",
        "Then we use the positional embedding layer, to create the embedding which takes into consideration the position of the tokens in the sentence.\n",
        "Finally we use the encoder transformer, which creates the representation of the input.\n",
        "\n",
        "In the decoder part we have, as in the encoder part, we have the input layer which takes as input the target token.\n",
        "Then we have the positional embedding layer.\n",
        "And, at the end, we have the decoder transformer, which takes as input the positional embedding and the output of the encoder.\n",
        "\n",
        "At the end we have the dropout layer, to reduce the overfitting and make a more robust model; and the output layer with the softmax activation.\n",
        "\n",
        "In the last line of the code we've created the transformer model."
      ],
      "metadata": {
        "id": "QADESdx2WZIk"
      }
    },
    {
      "cell_type": "code",
      "source": [
        "embed_dim = 256\n",
        "dense_dim = 2048\n",
        "num_heads = 8\n",
        "\n",
        "#Encoder part\n",
        "encoder_inputs = keras.Input(shape=(None,), dtype=\"int64\", name=\"english\")\n",
        "pos_embedding_enc = PositionalEmbedding(sequence_size, dictionary_size, embed_dim)(encoder_inputs)\n",
        "encoder_transf = TransformerEncoder(embed_dim, dense_dim, num_heads)(pos_embedding_enc)\n",
        "\n",
        "#Decoder part\n",
        "decoder_inputs = keras.Input(shape=(None,), dtype=\"int64\", name=\"italian\")\n",
        "pos_embedding_dec = PositionalEmbedding(sequence_size, dictionary_size, embed_dim)(decoder_inputs)\n",
        "decoder_transf = TransformerDecoder(embed_dim, dense_dim, num_heads)(pos_embedding_dec, encoder_transf)\n",
        "dropout = layers.Dropout(0.5)(decoder_transf)\n",
        "decoder_outputs = layers.Dense(dictionary_size, activation=\"softmax\")(dropout)\n",
        "\n",
        "#Create the model\n",
        "transformer = keras.Model([encoder_inputs, decoder_inputs], decoder_outputs)"
      ],
      "metadata": {
        "id": "EOPeBSGZpN5r"
      },
      "execution_count": null,
      "outputs": []
    },
    {
      "cell_type": "markdown",
      "source": [
        "Now we compile the model, to transform it as a computational graph, with ADAM optimizer, sparse categorical cross entropy as Loss and precision as metrics.\n",
        "\n",
        "Now we train the model, using the fit method."
      ],
      "metadata": {
        "id": "A58Jji_HWcBt"
      }
    },
    {
      "cell_type": "code",
      "source": [
        "transformer.compile(\n",
        "  optimizer=\"adam\",\n",
        "  loss=\"sparse_categorical_crossentropy\",\n",
        "  metrics=[\"accuracy\"])"
      ],
      "metadata": {
        "id": "-9RL9CVCpPZ6"
      },
      "execution_count": null,
      "outputs": []
    },
    {
      "cell_type": "code",
      "source": [
        "transformer_history = transformer.fit(train_ds, epochs=5, validation_data=val_ds)"
      ],
      "metadata": {
        "colab": {
          "base_uri": "https://localhost:8080/"
        },
        "id": "P1M6tHuVpSEZ",
        "outputId": "86e08799-f0a1-498c-dbf7-6bf3eeb314cc"
      },
      "execution_count": null,
      "outputs": [
        {
          "output_type": "stream",
          "name": "stdout",
          "text": [
            "Epoch 1/5\n",
            "3187/3187 [==============================] - 282s 84ms/step - loss: 2.3695 - accuracy: 0.6041 - val_loss: 1.3885 - val_accuracy: 0.7196\n",
            "Epoch 2/5\n",
            "3187/3187 [==============================] - 249s 78ms/step - loss: 1.2956 - accuracy: 0.7297 - val_loss: 1.1087 - val_accuracy: 0.7572\n",
            "Epoch 3/5\n",
            "3187/3187 [==============================] - 249s 78ms/step - loss: 1.0250 - accuracy: 0.7656 - val_loss: 0.9891 - val_accuracy: 0.7766\n",
            "Epoch 4/5\n",
            "3187/3187 [==============================] - 252s 79ms/step - loss: 0.8804 - accuracy: 0.7858 - val_loss: 0.9312 - val_accuracy: 0.7864\n",
            "Epoch 5/5\n",
            "3187/3187 [==============================] - 263s 82ms/step - loss: 0.7867 - accuracy: 0.7998 - val_loss: 0.8957 - val_accuracy: 0.7928\n"
          ]
        }
      ]
    },
    {
      "cell_type": "markdown",
      "source": [
        "##**EVALUATION***"
      ],
      "metadata": {
        "id": "L4mQxCWnVkmp"
      }
    },
    {
      "cell_type": "markdown",
      "source": [
        "###***HUMAN EVALUATION WITH GRU***\n",
        "####**Decode the predicted sequences**\n",
        "\n",
        "We created a function \"*decode_sequence*\" to predict the translated sequences. As input we give some test instances that were originally showed as sets text pairs-<br>\n",
        " So, we tokenized and transformed them in vectors (input senteces, target sentences) with the Vectorization Layers defined previously, and finally we **translate** the english test sentence in the italian.\n"
      ],
      "metadata": {
        "id": "kthisyIuVodf"
      }
    },
    {
      "cell_type": "code",
      "source": [
        "# Define the italian vocabulary (to reconvert the vectors into words)\n",
        "ita_vocab = ita_vectorization.get_vocabulary()\n",
        "ita_index_words = dict(zip(range(len(ita_vocab)), ita_vocab))\n",
        "max_length_sentence = 15"
      ],
      "metadata": {
        "id": "HTkwRGb9o10r"
      },
      "execution_count": null,
      "outputs": []
    },
    {
      "cell_type": "code",
      "source": [
        "# Define the decoded sequences\n",
        "def decode_sequence_GRU(input_sentence):\n",
        "  tokenized_input = eng_vectorization([input_sentence])               # Tokenize input through Vectorization Layer\n",
        "  decoded_sentence = \"[start]\"\n",
        "  for i in range(max_length_sentence):\n",
        "    tokenized_target_sentence = ita_vectorization([decoded_sentence])\n",
        "    next_token_predictions = model_seq2seq_GRU.predict([tokenized_input, tokenized_target_sentence])  # Predict phase\n",
        "    pred_token_index = np.argmax(next_token_predictions[0, i, :])      # Take the words with max probability\n",
        "    pred_token = ita_index_words[pred_token_index]                     # Convert vectors (predicted) into words\n",
        "    decoded_sentence += \" \" + pred_token\n",
        "    if pred_token == \"[end]\":\n",
        "      break\n",
        "  return decoded_sentence"
      ],
      "metadata": {
        "id": "vJAquC6Go3Wd"
      },
      "execution_count": null,
      "outputs": []
    },
    {
      "cell_type": "code",
      "source": [
        "# Translate 5 random sentences\n",
        "test_eng_texts = [pair[0] for pair in test_pairs]\n",
        "for _ in range(5):\n",
        "  input_sentence = random.choice(test_eng_texts)\n",
        "  print(\"-\")\n",
        "  print(input_sentence)\n",
        "  print(decode_sequence_GRU(input_sentence))"
      ],
      "metadata": {
        "colab": {
          "base_uri": "https://localhost:8080/"
        },
        "id": "ZIHDpTt7o5E6",
        "outputId": "df3c802e-163c-4d51-8adf-1cba2882c10b"
      },
      "execution_count": null,
      "outputs": [
        {
          "output_type": "stream",
          "name": "stdout",
          "text": [
            "-\n",
            "Let's start with you.\n",
            "1/1 [==============================] - 0s 27ms/step\n",
            "1/1 [==============================] - 0s 26ms/step\n",
            "1/1 [==============================] - 0s 27ms/step\n",
            "1/1 [==============================] - 0s 26ms/step\n",
            "[start] cominciamo con voi [end]\n",
            "-\n",
            "I hurt my back.\n",
            "1/1 [==============================] - 0s 24ms/step\n",
            "1/1 [==============================] - 0s 24ms/step\n",
            "1/1 [==============================] - 0s 26ms/step\n",
            "1/1 [==============================] - 0s 26ms/step\n",
            "1/1 [==============================] - 0s 26ms/step\n",
            "1/1 [==============================] - 0s 22ms/step\n",
            "1/1 [==============================] - 0s 25ms/step\n",
            "[start] mi sono fatto male alla schiena [end]\n",
            "-\n",
            "She has a husband and two daughters.\n",
            "1/1 [==============================] - 0s 38ms/step\n",
            "1/1 [==============================] - 0s 33ms/step\n",
            "1/1 [==============================] - 0s 25ms/step\n",
            "1/1 [==============================] - 0s 26ms/step\n",
            "1/1 [==============================] - 0s 27ms/step\n",
            "1/1 [==============================] - 0s 27ms/step\n",
            "1/1 [==============================] - 0s 25ms/step\n",
            "[start] ha un marito e due figlie [end]\n",
            "-\n",
            "I'm sorry that you can't come this evening.\n",
            "1/1 [==============================] - 0s 26ms/step\n",
            "1/1 [==============================] - 0s 24ms/step\n",
            "1/1 [==============================] - 0s 23ms/step\n",
            "1/1 [==============================] - 0s 34ms/step\n",
            "1/1 [==============================] - 0s 28ms/step\n",
            "1/1 [==============================] - 0s 26ms/step\n",
            "1/1 [==============================] - 0s 28ms/step\n",
            "1/1 [==============================] - 0s 37ms/step\n",
            "[start] mi dispiace che non possa venire stasera [end]\n",
            "-\n",
            "We'll probably beat them there.\n",
            "1/1 [==============================] - 0s 26ms/step\n",
            "1/1 [==============================] - 0s 33ms/step\n",
            "1/1 [==============================] - 0s 26ms/step\n",
            "1/1 [==============================] - 0s 26ms/step\n",
            "1/1 [==============================] - 0s 29ms/step\n",
            "[start] probabilmente ci batteremo lì [end]\n"
          ]
        }
      ]
    },
    {
      "cell_type": "markdown",
      "source": [
        "###***HUMAN EVALUATION WITH TRANSFORMERS***\n",
        "####**Decode the predicted sequences**\n",
        "\n",
        "We have made the same process that we've used for the RNN models.\n",
        "\n",
        "We've created a function which returns the predicted sentences from the test set.\n"
      ],
      "metadata": {
        "id": "O111gyuYV2do"
      }
    },
    {
      "cell_type": "code",
      "source": [
        "# Define the italian vocabulary (to reconvert the vectors into words)\n",
        "ita_vocab = ita_vectorization.get_vocabulary()\n",
        "ita_index = dict(zip(range(len(ita_vocab)), ita_vocab))\n",
        "max_decoded_sentence_length = 15"
      ],
      "metadata": {
        "id": "GLjmWCWEpTYr"
      },
      "execution_count": null,
      "outputs": []
    },
    {
      "cell_type": "code",
      "source": [
        "# Define the decoded sequences\n",
        "def decode_sequence_transformer(input_sentence):\n",
        "  tokenized_input_sentence = eng_vectorization([input_sentence])\n",
        "  decoded_sentence = \"[start]\"\n",
        "  for i in range(max_decoded_sentence_length):\n",
        "    tokenized_target_sentence = ita_vectorization([decoded_sentence])[:, :-1]\n",
        "    predictions = transformer([tokenized_input_sentence, tokenized_target_sentence])\n",
        "    token_index = np.argmax(predictions[0, i, :])\n",
        "    token = ita_index[token_index]\n",
        "    decoded_sentence += \" \" + token\n",
        "    if token == \"[end]\":\n",
        "      break\n",
        "  return decoded_sentence"
      ],
      "metadata": {
        "id": "w1fVySfvpUrj"
      },
      "execution_count": null,
      "outputs": []
    },
    {
      "cell_type": "code",
      "source": [
        "# Translate 5 random sentences\n",
        "test_eng_texts = [pair[0] for pair in test_pairs]\n",
        "for _ in range(5):\n",
        "  input_sentence = random.choice(test_eng_texts)\n",
        "  print(\"-\")\n",
        "  print(input_sentence)\n",
        "  print(decode_sequence_transformer(input_sentence))"
      ],
      "metadata": {
        "colab": {
          "base_uri": "https://localhost:8080/"
        },
        "id": "Q--3woGPpWJD",
        "outputId": "837e031b-6081-4ee8-c300-234f51763c5d"
      },
      "execution_count": null,
      "outputs": [
        {
          "output_type": "stream",
          "name": "stdout",
          "text": [
            "-\n",
            "Do you think it's going to rain tomorrow?\n",
            "[start] lei pensa che pioverà domani [end]\n",
            "-\n",
            "A cat scratched me.\n",
            "[start] mi ha regalato un gatto [end]\n",
            "-\n",
            "Come to my room between three and four.\n",
            "[start] venga nella mia stanza tra quattro e quattro [end]\n",
            "-\n",
            "She is frightened of thunder.\n",
            "[start] lei è spaventata dal tuoni [end]\n",
            "-\n",
            "Why are you unhappy?\n",
            "[start] perché è infelice [end]\n"
          ]
        }
      ]
    },
    {
      "cell_type": "markdown",
      "source": [
        "As we can notice by just these translated sentences, we've some erros for the translations from the grammatical point of view, but also for the contextual point of view."
      ],
      "metadata": {
        "id": "MZTgwKl42DG3"
      }
    },
    {
      "cell_type": "markdown",
      "source": [
        "###***AUTOMATIC EVALUATION***\n",
        "We've different automathic evaluation for a machine translation task, such as:\n",
        "- WER(word edit rate): is the number of editing steps to transform the output sequence into the reference one, returning a score between 0 and 1. The more is the score, the less the model performs.\n",
        "- TER(translation edit rate): is the same of WER, but we consider also an additional editing step, called shift, in which we move a sequence of words to the left or to the right.\n",
        "- METEOR: a metric that takes into consideration also the synonyms, but which requires a dictionary. In fact we've downloaded using nltk library the wordnet dictionary.\n",
        "- BLEU: a metric which computes the precision for n-grams of size from 1 to 4, considering also a brevity penalty, to penalize the sentences which are too short.\n"
      ],
      "metadata": {
        "id": "Q4Y5MII4kHPU"
      }
    },
    {
      "cell_type": "code",
      "source": [
        "# Generate translations using the trained transformer model\n",
        "reference_sentences = []\n",
        "predicted_sentences_transf = []\n",
        "predicted_sentences_gru = []"
      ],
      "metadata": {
        "id": "brUUuyvF6EIg"
      },
      "execution_count": 89,
      "outputs": []
    },
    {
      "cell_type": "code",
      "source": [
        "print(len(test_pairs))\n",
        "\n",
        "#We select a portion of the test set randomly, for computational time reason\n",
        "new_test_pairs = random.sample(test_pairs, k=1000)\n",
        "print(len(new_test_pairs))"
      ],
      "metadata": {
        "colab": {
          "base_uri": "https://localhost:8080/"
        },
        "id": "DOMjsIWq6E2o",
        "outputId": "5dda2f13-7499-4e45-e124-17cda4dfb955"
      },
      "execution_count": null,
      "outputs": [
        {
          "output_type": "stream",
          "name": "stdout",
          "text": [
            "43704\n",
            "1000\n"
          ]
        }
      ]
    },
    {
      "cell_type": "code",
      "source": [
        "nltk.download('wordnet')\n",
        "\n",
        "#COMPUTE TER, METEOR AND WER\n",
        "total_ter_transformer = 0\n",
        "total_ter_gru = 0\n",
        "\n",
        "total_meteor_transformer = 0\n",
        "total_meteor_gru = 0\n",
        "\n",
        "total_wer_transformer = 0\n",
        "total_wer_gru = 0\n",
        "\n",
        "total_samples = len(new_test_pairs)\n",
        "\n",
        "# Iterate over test pairs\n",
        "for pair in new_test_pairs:\n",
        "    english_sentence = pair[0]\n",
        "    reference_italian_sentence = pair[1]\n",
        "\n",
        "    # Generate the predicted output sentence using the transformer model\n",
        "    predicted_italian_transf = decode_sequence_transformer(english_sentence)\n",
        "    # Generate the predicted output sentence using the GRU model\n",
        "    predicted_italian_gru = decode_sequence_GRU(english_sentence)\n",
        "\n",
        "    # Remove the [start] and [end] tokens from the reference and predicted sentences\n",
        "    reference_italian_sentence = reference_italian_sentence.replace(\"[start]\", \"\").replace(\"[end]\", \"\").strip()\n",
        "    predicted_italian_transf = predicted_italian_transf.replace(\"[start]\", \"\").replace(\"[end]\", \"\").strip()\n",
        "    predicted_italian_gru = predicted_italian_gru.replace(\"[start]\", \"\").replace(\"[end]\", \"\").strip()\n",
        "\n",
        "    # Collect the predicted and reference sentences\n",
        "    reference_sentences.append(reference_italian_sentence)\n",
        "    predicted_sentences_transf.append(predicted_italian_transf)\n",
        "    predicted_sentences_gru.append(predicted_italian_gru)\n",
        "\n",
        "    # Calculate WER using jiwer\n",
        "    wer_transf = jiwer.wer(reference_italian_sentence, predicted_italian_transf)\n",
        "    wer_gru = jiwer.wer(reference_italian_sentence, predicted_italian_gru)\n",
        "\n",
        "    total_wer_transformer += wer_transf\n",
        "    total_wer_gru += wer_gru\n",
        "\n",
        "    # Calculate TER using nltk\n",
        "    reference_tokens = nltk.word_tokenize(reference_italian_sentence)\n",
        "    predicted_tokens_transf = nltk.word_tokenize(predicted_italian_transf)\n",
        "    predicted_tokens_gru = nltk.word_tokenize(predicted_italian_gru)\n",
        "\n",
        "    ter_transf = nltk.edit_distance(reference_tokens, predicted_tokens_transf) / len(reference_tokens)\n",
        "    ter_gru = nltk.edit_distance(reference_tokens, predicted_tokens_gru) / len(reference_tokens)\n",
        "\n",
        "    total_ter_transformer += ter_transf\n",
        "    total_ter_gru += ter_gru\n",
        "\n",
        "    # Calculate METEOR score using nltk\n",
        "    meteor_transf = nltk.translate.meteor_score.meteor_score([reference_tokens], predicted_tokens_transf)\n",
        "    meteor_gru = nltk.translate.meteor_score.meteor_score([reference_tokens], predicted_tokens_gru)\n",
        "\n",
        "    total_meteor_transformer += meteor_transf\n",
        "    total_meteor_gru += meteor_gru"
      ],
      "metadata": {
        "id": "h4zQ2Bsv6NMp"
      },
      "execution_count": null,
      "outputs": []
    },
    {
      "cell_type": "code",
      "source": [
        "#COMPUTE THE METRICS\n",
        "# Calculate average WER\n",
        "avg_wer_transformer = total_wer_transformer / total_samples\n",
        "avg_wer_gru = total_wer_gru / total_samples\n",
        "\n",
        "print(\"Transformer WER:\", avg_wer_transformer)\n",
        "print(\"GRU WER:\", avg_wer_gru)\n",
        "print(\"\")\n",
        "\n",
        "# Calculate average TER\n",
        "avg_ter_transformer = total_ter_transformer / total_samples\n",
        "avg_ter_gru = total_ter_gru / total_samples\n",
        "print(\"Transformer TER:\", avg_ter_transformer)\n",
        "print(\"GRU TER:\", avg_ter_gru)\n",
        "print(\"\")\n",
        "\n",
        "# Calculate average METEOR scores\n",
        "avg_meteor_transformer = total_meteor_transformer / total_samples\n",
        "avg_meteor_gru = total_meteor_gru / total_samples\n",
        "\n",
        "print(\"Transformer METEOR Score:\", avg_meteor_transformer)\n",
        "print(\"GRU METEOR Score:\", avg_meteor_gru)\n",
        "print(\"\")\n",
        "\n",
        "# Compute the BLEU score using sacrebleu\n",
        "bleu_transf = sacrebleu.corpus_bleu(predicted_sentences_transf, [reference_sentences])\n",
        "bleu_gru = sacrebleu.corpus_bleu(predicted_sentences_gru, [reference_sentences])\n",
        "\n",
        "print(\"Transformer BLEU:\", bleu_transf.score)\n",
        "print(\"GRU BLEU:\", bleu_gru.score)\n",
        "print(\"\")"
      ],
      "metadata": {
        "colab": {
          "base_uri": "https://localhost:8080/"
        },
        "id": "FrCPJnwm8u74",
        "outputId": "f705d17b-4453-4543-886c-f31167494eff"
      },
      "execution_count": null,
      "outputs": [
        {
          "output_type": "stream",
          "name": "stdout",
          "text": [
            "Transformer WER: 0.7061719120165547\n",
            "GRU WER: 0.6898866182230472\n",
            "\n",
            "Transformer TER: 0.6310351711641197\n",
            "GRU TER: 0.6150318415015787\n",
            "\n",
            "Transformer METEOR Score: 0.51279183586135\n",
            "GRU METEOR Score: 0.5313471674468099\n",
            "\n",
            "Transformer BLEU: 22.787599645739796\n",
            "GRU BLEU: 24.906798815937012\n",
            "\n"
          ]
        }
      ]
    },
    {
      "cell_type": "markdown",
      "source": [
        "As we can see by these performances, the GRU model is better than the transformer, since we have only few epochs and also short sentences, so the GRU is able to catch the long term dependencies and due to its architecture, it performs better with a small number of epochs. <br>\n",
        "Instead the transformer, since it's a very complex model, whith several layers and computations to perform, since it relies also on the attention mechanism with the multi-head attention layers."
      ],
      "metadata": {
        "id": "WNjTVqHY05tK"
      }
    },
    {
      "cell_type": "markdown",
      "source": [
        "We can visualize these performances also in some graphs. In particular we've for each metric an histogram."
      ],
      "metadata": {
        "id": "ZDk28eJc13D9"
      }
    },
    {
      "cell_type": "code",
      "source": [
        "#WER GRAPH\n",
        "# Set the labels and scores for WER\n",
        "labels = ['Transformer', 'GRU']\n",
        "scores = [avg_wer_transformer, avg_wer_gru]\n",
        "\n",
        "# Set the colors for the bars\n",
        "colors = ['blue', 'green']\n",
        "\n",
        "# Create the bar plot for WER\n",
        "plt.figure(figsize=(3, 3))\n",
        "plt.bar(labels, scores, color=colors)\n",
        "\n",
        "# Set the title and axis labels\n",
        "plt.title('WER Comparison')\n",
        "plt.xlabel('Models')\n",
        "plt.ylabel('WER Score')\n",
        "\n",
        "# Show the plot\n",
        "plt.show()"
      ],
      "metadata": {
        "colab": {
          "base_uri": "https://localhost:8080/",
          "height": 333
        },
        "id": "GZTDjK9l8k2X",
        "outputId": "30648940-b628-45d7-d502-ae9f58d96695"
      },
      "execution_count": null,
      "outputs": [
        {
          "output_type": "display_data",
          "data": {
            "text/plain": [
              "<Figure size 300x300 with 1 Axes>"
            ],
            "image/png": "[encoded data removed]"
          },
          "metadata": {}
        }
      ]
    },
    {
      "cell_type": "code",
      "source": [
        "#TER GRAPH\n",
        "# Set the labels and scores for TER\n",
        "labels = ['Transformer', 'GRU']\n",
        "scores = [avg_ter_transformer, avg_ter_gru]\n",
        "\n",
        "# Set the colors for the bars\n",
        "colors = ['blue', 'green']\n",
        "\n",
        "# Create the bar plot for TER\n",
        "plt.figure(figsize=(3, 3))\n",
        "plt.bar(labels, scores, color=colors)\n",
        "\n",
        "# Set the title and axis labels\n",
        "plt.title('TER Comparison')\n",
        "plt.xlabel('Models')\n",
        "plt.ylabel('TER Score')\n",
        "\n",
        "# Show the plot\n",
        "plt.show()"
      ],
      "metadata": {
        "colab": {
          "base_uri": "https://localhost:8080/",
          "height": 333
        },
        "id": "0skJ58gW8mt5",
        "outputId": "97ea141e-3599-4936-8170-322fd7679c56"
      },
      "execution_count": 88,
      "outputs": [
        {
          "output_type": "display_data",
          "data": {
            "text/plain": [
              "<Figure size 300x300 with 1 Axes>"
            ],
            "image/png": "[encoded data removed]"
          },
          "metadata": {}
        }
      ]
    },
    {
      "cell_type": "code",
      "source": [
        "#METEOR GRAPH\n",
        "# Set the labels and scores for METEOR\n",
        "labels = ['Transformer', 'GRU']\n",
        "scores = [avg_meteor_transformer, avg_meteor_gru]\n",
        "\n",
        "# Set the colors for the bars\n",
        "colors = ['blue', 'green']\n",
        "\n",
        "# Create the bar plot for METEOR\n",
        "plt.figure(figsize=(3, 3))\n",
        "plt.bar(labels, scores, color=colors)\n",
        "\n",
        "# Set the title and axis labels\n",
        "plt.title('METEOR Comparison')\n",
        "plt.xlabel('Models')\n",
        "plt.ylabel('METEOR Score')\n",
        "\n",
        "# Show the plot\n",
        "plt.show()"
      ],
      "metadata": {
        "colab": {
          "base_uri": "https://localhost:8080/",
          "height": 333
        },
        "id": "WMcbraAPAnmg",
        "outputId": "ed113ee5-8473-4c15-b7c4-33b96561aedf"
      },
      "execution_count": null,
      "outputs": [
        {
          "output_type": "display_data",
          "data": {
            "text/plain": [
              "<Figure size 300x300 with 1 Axes>"
            ],
            "image/png": "[encoded data removed]"
          },
          "metadata": {}
        }
      ]
    },
    {
      "cell_type": "code",
      "source": [
        "#BLEU GRAPH\n",
        "# Set the labels and scores for BLEU\n",
        "labels = ['Transformer', 'GRU']\n",
        "scores = [bleu_transf.score, bleu_gru.score]\n",
        "\n",
        "# Set the colors for the bars\n",
        "colors = ['blue', 'green']\n",
        "\n",
        "# Create the bar plot for BLEU\n",
        "plt.figure(figsize=(3, 3))\n",
        "plt.bar(labels, scores, color=colors)\n",
        "\n",
        "# Set the title and axis labels\n",
        "plt.title('BLEU Comparison')\n",
        "plt.xlabel('Models')\n",
        "plt.ylabel('BLEU Score')\n",
        "\n",
        "# Show the plot\n",
        "plt.show()"
      ],
      "metadata": {
        "colab": {
          "base_uri": "https://localhost:8080/",
          "height": 333
        },
        "id": "yM0l6qyI807u",
        "outputId": "a688061c-823e-4bd2-8d9c-f51b00ef7162"
      },
      "execution_count": 87,
      "outputs": [
        {
          "output_type": "display_data",
          "data": {
            "text/plain": [
              "<Figure size 300x300 with 1 Axes>"
            ],
            "image/png": "[encoded data removed]"
          },
          "metadata": {}
        }
      ]
    }
  ]
}